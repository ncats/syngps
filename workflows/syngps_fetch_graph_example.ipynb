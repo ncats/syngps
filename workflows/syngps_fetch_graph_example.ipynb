{
 "cells": [
  {
   "cell_type": "code",
   "execution_count": 1,
   "metadata": {},
   "outputs": [],
   "source": [
    "from syngps.adapters import NetworkxDataAdapter\n",
    "from syngps.models import SynthGraphSearch\n",
    "from syngps.utils import send_synthgraph_to_cytoscape\n",
    "from syngps import AicpFunctions\n",
    "\n",
    "# configure python logger for info level logging\n",
    "import logging\n",
    "\n",
    "logging.basicConfig(level=logging.INFO)"
   ]
  },
  {
   "cell_type": "code",
   "execution_count": 2,
   "metadata": {},
   "outputs": [],
   "source": [
    "# Create networkx adapter\n",
    "data_adapter = NetworkxDataAdapter()\n",
    "aicp_functions = AicpFunctions(data_adapter)"
   ]
  },
  {
   "cell_type": "code",
   "execution_count": 3,
   "metadata": {},
   "outputs": [],
   "source": [
    "# Define target molecule\n",
    "TARGET_MOLECULE_INCHIKEY = \"VTKDSRTUIRSTCK-BHVANESWSA-N\"\n",
    "\n",
    "# Create synthesis graph search object\n",
    "search_params = SynthGraphSearch(\n",
    "    target_molecule_inchikey=TARGET_MOLECULE_INCHIKEY,\n",
    "    reaction_steps=1,\n",
    "    graph_backend=\"networkx\",\n",
    ")"
   ]
  },
  {
   "cell_type": "code",
   "execution_count": null,
   "metadata": {},
   "outputs": [],
   "source": [
    "synth_graph = aicp_functions.fetch_synthesis_graph(search_params)"
   ]
  },
  {
   "cell_type": "code",
   "execution_count": null,
   "metadata": {},
   "outputs": [],
   "source": [
    "print(synth_graph.synthesis_graph)\n",
    "send_synthgraph_to_cytoscape(synth_graph)"
   ]
  }
 ],
 "metadata": {
  "kernelspec": {
   "display_name": "syngps",
   "language": "python",
   "name": "python3"
  },
  "language_info": {
   "codemirror_mode": {
    "name": "ipython",
    "version": 3
   },
   "file_extension": ".py",
   "mimetype": "text/x-python",
   "name": "python",
   "nbconvert_exporter": "python",
   "pygments_lexer": "ipython3",
   "version": "3.12.2"
  }
 },
 "nbformat": 4,
 "nbformat_minor": 2
}
