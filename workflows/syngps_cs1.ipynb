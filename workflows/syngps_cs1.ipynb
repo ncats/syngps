{
   "cells": [
      {
         "cell_type": "code",
         "execution_count": 1,
         "id": "47a4c8d0-dfa4-44af-b794-03267e5ea8f0",
         "metadata": {},
         "outputs": [],
         "source": [
            "import json\n",
            "from syngps import cy_json2synthgraph, SynthGraph, AicpFunctions, graph_utils as gu, to_cytoscape_json, send_network_to_cytoscape"
         ]
      },
      {
         "cell_type": "code",
         "execution_count": 2,
         "id": "27f2d741-f91d-4ecd-842a-6447bff24b80",
         "metadata": {},
         "outputs": [],
         "source": [
            "JSON_FILE_PATH = '../data/cs1.cyjs'\n",
            "\n",
            "TMID = '865'"
         ]
      },
      {
         "cell_type": "code",
         "execution_count": 3,
         "id": "61709cc5-a6c3-4a46-b719-022496221deb",
         "metadata": {},
         "outputs": [],
         "source": [
            "def load_synth_graph ():\n",
            "    # Open and read the JSON file\n",
            "    with open(JSON_FILE_PATH, 'r') as file:\n",
            "        data = json.load(file)\n",
            "        \n",
            "    return (data)"
         ]
      },
      {
         "cell_type": "code",
         "execution_count": null,
         "id": "d247c06f",
         "metadata": {},
         "outputs": [],
         "source": [
            "raw_sg_graph = load_synth_graph()\n",
            "G_sg = cy_json2synthgraph(raw_sg_graph)\n",
            "print(G_sg)"
         ]
      },
      {
         "cell_type": "code",
         "execution_count": null,
         "id": "3d1a8424-2cfb-46c1-b68d-9643b67c11fa",
         "metadata": {},
         "outputs": [],
         "source": [
            "# Generatig the artifact-free synthesis graph\n",
            "G_sg_af = gu.remove_incompatible_reactions (G_sg.copy(), target_molecule_node_id = TMID)\n",
            "\n",
            "# Generating combination graphs\n",
            "# and allowing to find all combination graphs based on the edge-betweenness centrality (EBC) method\n",
            "G_combinations = []\n",
            "G_combinations = gu.generate_combination_graphs (G_sg_af.copy(), method = \"ebc\", max_nr = 0)\n",
            "\n",
            "\n",
            "\n",
            "# Identifying Viable Synthesis Routes (VSRs)\n",
            "VSRs = []\n",
            "for C in G_combinations:\n",
            "    R = gu.find_viable_route (C, target_module_node_id = TMID)\n",
            "    print (R)\n",
            "    \n",
            "    if R[1] == 'Viable Route Candidate' or R[1] == 'Viable Synthesis Route':\n",
            "        VSRs.append(R[0])\n",
            "\n",
            "for VSR in VSRs:\n",
            "    print (VSR)"
         ]
      },
      {
         "cell_type": "code",
         "execution_count": null,
         "id": "8a36e784",
         "metadata": {},
         "outputs": [],
         "source": [
            "# Send original network\n",
            "send_network_to_cytoscape(G_sg, network_name=\"Example SynGPS\")\n",
            "\n",
            "# Send network without incompatible reactions\n",
            "send_network_to_cytoscape(G_sg_af, network_name=\"Example SynGPS - No incompatible reactions\")\n",
            "\n",
            "# Send combination graphs\n",
            "for index, C in enumerate(G_combinations, start=1):\n",
            "    send_network_to_cytoscape(C, network_name=\"Example SynGPS - Combination Graph \" + str(index))\n",
            "\n",
            "# Send viable synthesis routes\n",
            "for index, VSR in enumerate(VSRs, start=1):\n",
            "    send_network_to_cytoscape(VSR, network_name=\"Example SynGPS - Viable Synthesis Route \" + str(index))"
         ]
      },
      {
         "cell_type": "code",
         "execution_count": 7,
         "id": "5ef2ba39-cdb2-4a5e-ab6f-d7037e1a85d3",
         "metadata": {},
         "outputs": [],
         "source": [
            "# References\n",
            "\n",
            "# Ref: https://www.geeksforgeeks.org/read-json-file-using-python/\n",
            "#"
         ]
      }
   ],
   "metadata": {
      "kernelspec": {
         "display_name": "syngps",
         "language": "python",
         "name": "python3"
      },
      "language_info": {
         "codemirror_mode": {
            "name": "ipython",
            "version": 3
         },
         "file_extension": ".py",
         "mimetype": "text/x-python",
         "name": "python",
         "nbconvert_exporter": "python",
         "pygments_lexer": "ipython3",
         "version": "3.12.2"
      }
   },
   "nbformat": 4,
   "nbformat_minor": 5
}
