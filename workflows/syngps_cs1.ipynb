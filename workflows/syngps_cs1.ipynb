{
   "cells": [
      {
         "cell_type": "code",
         "execution_count": 1,
         "id": "47a4c8d0-dfa4-44af-b794-03267e5ea8f0",
         "metadata": {},
         "outputs": [],
         "source": [
            "import json\n",
            "from syngps import cy_json2synthgraph, SynthGraph, AicpFunctions"
         ]
      },
      {
         "cell_type": "code",
         "execution_count": 2,
         "id": "27f2d741-f91d-4ecd-842a-6447bff24b80",
         "metadata": {},
         "outputs": [],
         "source": [
            "JSON_FILE_PATH = '../data/cs1.cyjs'"
         ]
      },
      {
         "cell_type": "code",
         "execution_count": 3,
         "id": "61709cc5-a6c3-4a46-b719-022496221deb",
         "metadata": {},
         "outputs": [],
         "source": [
            "def load_synth_graph ():\n",
            "    # Open and read the JSON file\n",
            "    with open(JSON_FILE_PATH, 'r') as file:\n",
            "        data = json.load(file)\n",
            "        \n",
            "    return (data)"
         ]
      },
      {
         "cell_type": "code",
         "execution_count": 4,
         "id": "3d1a8424-2cfb-46c1-b68d-9643b67c11fa",
         "metadata": {},
         "outputs": [
            {
               "name": "stdout",
               "output_type": "stream",
               "text": [
                  "Node 919 has no edges\n",
                  "Node 917 has no edges\n",
                  "Node 915 has no edges\n",
                  "Node 913 has no edges\n",
                  "Node 911 has no edges\n",
                  "Node 909 has no edges\n",
                  "Node 907 has no edges\n",
                  "Node 905 has no edges\n",
                  "Node 903 has no edges\n",
                  "Node 901 has no edges\n",
                  "Node 899 has no edges\n",
                  "Node 897 has no edges\n",
                  "Node 895 has no edges\n",
                  "Node 893 has no edges\n",
                  "Node 891 has no edges\n",
                  "Node 889 has no edges\n",
                  "Node 887 has no edges\n",
                  "Node 885 has no edges\n",
                  "Node 883 has no edges\n",
                  "Node 881 has no edges\n",
                  "Node 879 has no edges\n",
                  "Node 877 has no edges\n",
                  "Node 875 has no edges\n",
                  "Node 873 has no edges\n",
                  "Node 871 has no edges\n",
                  "Node 869 has no edges\n",
                  "Node 867 has no edges\n",
                  "Node 865 has no edges\n",
                  "Node 863 has no edges\n",
                  "Node 861 has no edges\n",
                  "Node 859 has no edges\n",
                  "Node 857 has no edges\n",
                  "Node 855 has no edges\n",
                  "[]\n",
                  "[SynthRoute(route_candidate=<networkx.classes.digraph.DiGraph object at 0x147e22bd0>, aggregated_yield=None, predicted=False, source=None, route_index=1, route_status='Empty Combination Graph', method='AICP', route_node_labels=[])]\n",
                  "[CombinationGraph(route_index=1, route_candidate=<networkx.classes.digraph.DiGraph object at 0x136d4f110>, route_candidate_json={'nodes': [], 'edges': []})]\n"
               ]
            }
         ],
         "source": [
            "\n",
            "G_synth_graph = cy_json2synthgraph(load_synth_graph())\n",
            "\n",
            "\n",
            "# check for nodes without any edges\n",
            "nodes_to_delete = []\n",
            "for node in G_synth_graph.nodes():\n",
            "    if G_synth_graph.degree(node) == 0:\n",
            "        print(f\"Node {node} has no edges\")\n",
            "        nodes_to_delete.append(node)\n",
            "\n",
            "G_synth_graph.remove_nodes_from(nodes_to_delete)\n",
            "new_nodes_to_delete = []\n",
            "# if any node doesnt have node_type property raise an error\n",
            "for node in G_synth_graph.nodes():\n",
            "    if \"node_type\" not in G_synth_graph.nodes[node]:\n",
            "        #raise ValueError(f\"Node {node} does not have node_type property\")\n",
            "        new_nodes_to_delete.append(node)\n",
            "\n",
            "G_synth_graph.remove_nodes_from(new_nodes_to_delete)\n",
            "\n",
            "\n",
            "# Instantiate SynthGraph\n",
            "synth_graph = SynthGraph(synthesis_graph=G_synth_graph, target_molecule_node_id=\"865\")\n",
            "\n",
            "# Call _identify_synth_graph_routes\n",
            "aicp_functions = AicpFunctions(data_adapter=None)\n",
            "routes, route_candidates, combination_graphs = aicp_functions._identify_synth_graph_routes_from_SynthGraph(\n",
            "    synth_graph, include_route_candidates=True, include_combination_graphs=True\n",
            ")\n",
            "\n",
            "print(routes)\n",
            "print(route_candidates)\n",
            "print(combination_graphs)"
         ]
      },
      {
         "cell_type": "code",
         "execution_count": 5,
         "id": "5ef2ba39-cdb2-4a5e-ab6f-d7037e1a85d3",
         "metadata": {},
         "outputs": [],
         "source": [
            "# References\n",
            "\n",
            "# Ref: https://www.geeksforgeeks.org/read-json-file-using-python/\n",
            "#"
         ]
      }
   ],
   "metadata": {
      "kernelspec": {
         "display_name": "syngps",
         "language": "python",
         "name": "python3"
      },
      "language_info": {
         "codemirror_mode": {
            "name": "ipython",
            "version": 3
         },
         "file_extension": ".py",
         "mimetype": "text/x-python",
         "name": "python",
         "nbconvert_exporter": "python",
         "pygments_lexer": "ipython3",
         "version": "3.12.2"
      }
   },
   "nbformat": 4,
   "nbformat_minor": 5
}
