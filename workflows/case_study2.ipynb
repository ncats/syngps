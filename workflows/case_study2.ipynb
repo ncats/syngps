{
 "cells": [
  {
   "cell_type": "code",
   "execution_count": 1,
   "id": "cee4a49f-e223-42a5-8e1b-4b6c71dce990",
   "metadata": {},
   "outputs": [],
   "source": [
    "# Author: Gergely Zahoranszky-Kohalmi, PhD\n",
    "#\n",
    "# Email: gergely.zahoranszky-kohalmi@nih.gov\n",
    "#\n",
    "# Organization: NCATS/NIH\n",
    "#\n",
    "# Aim: Top-down aggregated yield computation using matrix operations, i.e. we compute the efficiency of producing 1 unit quantity of the target molecule TM.\n",
    "#"
   ]
  },
  {
   "cell_type": "code",
   "execution_count": 2,
   "id": "4a34058f-1f21-4d06-a47a-47585699c311",
   "metadata": {},
   "outputs": [],
   "source": [
    "import networkx as nx\n",
    "import numpy as np\n",
    "import matplotlib.pyplot as plt\n",
    "import scipy\n",
    "import sys\n",
    "\n",
    "from syngps import aggregate_yields"
   ]
  },
  {
   "cell_type": "code",
   "execution_count": 3,
   "id": "86ef00fb-94f3-46a2-86ff-e50ff9c7567c",
   "metadata": {},
   "outputs": [],
   "source": [
    "#A = np.matrix([[0, 3, 0], [0, 0, 8], [0, 0, 0]])¶\n",
    "#r = np.array([4, 0, 0])\n",
    "\n",
    "# A = np.matrix([\n",
    "#                 [0, 3, 0, 0, 0, 0, 0],\n",
    "#                 [0, 0, 8, 2, 0, 0, 0],\n",
    "#                 [0, 0, 0, 0, 10, 0, 0],\n",
    "#                 [0, 0, 0, 0, 0, 25, 12],\n",
    "#                 [0, 0, 0, 0, 0, 25, 0],\n",
    "#                 [0, 0, 0, 0, 0, 0, 0],\n",
    "#                 [0, 0, 0, 0, 0, 0, 0]\n",
    "#             ])\n",
    "\n",
    "# r = np.array([4, 0, 0, 0, 0, 0, 0])\n",
    "\n",
    "# print (A)"
   ]
  },
  {
   "cell_type": "code",
   "execution_count": 4,
   "id": "e85c8735-25a2-4eeb-8aec-f57ce85a6e4c",
   "metadata": {},
   "outputs": [],
   "source": [
    "# Input: a viable sysnthesis route (VSR) which in turn is projected to a \"reaction network\"\n",
    "\n",
    "# Here we only assemble the projected reaction network, so the complete logic will need toi include the projectiopn as well.\n",
    "\n",
    "# Projected reaction network:\n",
    "\n",
    "# here the string-ids are placeholders for rxids, which are also strings\n",
    "\n",
    "G = nx.DiGraph()\n",
    "\n",
    "# G.add_edge('1', '2')\n",
    "# G.add_edge('2', '3')\n",
    "# G.add_edge('2', '4')\n",
    "# G.add_edge('3', '5')\n",
    "# G.add_edge('4', '6')\n",
    "# G.add_edge('4', '7')\n",
    "# G.add_edge('5', '6')\n",
    "\n",
    "\n",
    "# >>>>>\n",
    "G.add_edge('2', '1')\n",
    "G.add_edge('3', '2')\n",
    "G.add_edge('4', '2')\n",
    "G.add_edge('5', '3')\n",
    "G.add_edge('6', '4')\n",
    "G.add_edge('7', '4')\n",
    "G.add_edge('6', '5')\n",
    "\n",
    "G.nodes['1']['yield']  = 0.25\n",
    "G.nodes['2']['yield']  = 0.333\n",
    "G.nodes['3']['yield']  = 0.125\n",
    "G.nodes['4']['yield']  = 0.5\n",
    "G.nodes['5']['yield']  = 0.1\n",
    "G.nodes['6']['yield']  = 0.04\n",
    "G.nodes['7']['yield']  = 0.083\n",
    "# <<<<<<\n",
    "\n",
    "# >>>> test for single-step synthesis rout (one reaction node in the projected network) \n",
    "# G.add_node('1')\n",
    "# G.nodes['1']['yield'] = 0.25\n",
    "# <<<<<\n",
    "\n"
   ]
  },
  {
   "cell_type": "code",
   "execution_count": 5,
   "id": "b353edf9-0780-4736-9137-d142d28f8214",
   "metadata": {},
   "outputs": [],
   "source": [
    "def visualize_graph (G):\n",
    "    nx.draw_networkx(G, arrows=None, with_labels=True)\n",
    "\n",
    "    plt.show()"
   ]
  },
  {
   "cell_type": "code",
   "execution_count": 6,
   "id": "b731a944-7ed3-4d14-b77b-4b5625e5ec90",
   "metadata": {},
   "outputs": [],
   "source": [
    "#nx.draw_networkx(G, arrows=None, with_labels=True)\n",
    "\n",
    "#plt.show()\n",
    "\n",
    "#(A, nodes, node_map, node_reverse_map) = synth_route_to_adjacency_matrix (G)\n",
    "#print (A)"
   ]
  },
  {
   "cell_type": "code",
   "execution_count": null,
   "id": "d14e08b0-d8c0-4b49-8bfd-cce9232449f0",
   "metadata": {},
   "outputs": [
    {
     "name": "stdout",
     "output_type": "stream",
     "text": [
      "Aggregate Yield: 0.012041388324135932\n"
     ]
    }
   ],
   "source": [
    "agg_yield = aggregate_yields (G)\n",
    "print(\"Aggregate Yield: \" + str(agg_yield))"
   ]
  },
  {
   "cell_type": "code",
   "execution_count": 8,
   "id": "593a753e-9d5a-4dcf-ba09-9ad948df8151",
   "metadata": {},
   "outputs": [],
   "source": [
    "# References\n",
    "\n",
    "# Ref: https://numpy.org/doc/2.1/reference/generated/numpy.matrix.html\n",
    "# Ref: https://networkx.org/documentation/stable/reference/generated/networkx.convert_matrix.to_numpy_array.html\n",
    "# Ref: https://numpy.org/doc/stable/reference/generated/numpy.matmul.html\n",
    "# Ref: https://www.nagwa.com/en/explainers/432180315293/#:~:text=Definition%3A%20Square%20of%20a%20Matrix&text=In%20other%20words%2C%20just%20like,multiplying%20the%20matrix%20by%20itself.\n",
    "# Ref: https://numpy.org/doc/2.1/reference/generated/numpy.transpose.html\n",
    "# Ref: https://stackoverflow.com/questions/20229822/check-if-all-values-in-list-are-greater-than-a-certain-number\n",
    "# Ref: https://stackoverflow.com/questions/10062954/valueerror-the-truth-value-of-an-array-with-more-than-one-element-is-ambiguous\n",
    "# Ref: https://www.geeksforgeeks.org/valueerror-the-truth-value-of-an-array-with-more-than-one-element-is-ambiguous-use-a-any-or-a-all/\n",
    "# Ref: https://networkx.org/documentation/stable/reference/generated/networkx.linalg.graphmatrix.adjacency_matrix.html\n",
    "# Ref: https://stackoverflow.com/questions/26576524/how-do-i-transform-a-scipy-sparse-matrix-to-a-numpy-matrix\n",
    "# Ref: https://networkx.org/documentation/stable/reference/algorithms/generated/networkx.algorithms.dag.dag_longest_path.html\n",
    "# Ref: https://stackoverflow.com/questions/75853349/use-networkx-to-calculate-the-longest-path-to-a-given-node\n",
    "#"
   ]
  }
 ],
 "metadata": {
  "kernelspec": {
   "display_name": "syngps",
   "language": "python",
   "name": "python3"
  },
  "language_info": {
   "codemirror_mode": {
    "name": "ipython",
    "version": 3
   },
   "file_extension": ".py",
   "mimetype": "text/x-python",
   "name": "python",
   "nbconvert_exporter": "python",
   "pygments_lexer": "ipython3",
   "version": "3.12.2"
  }
 },
 "nbformat": 4,
 "nbformat_minor": 5
}
