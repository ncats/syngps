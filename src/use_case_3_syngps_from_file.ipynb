{
 "cells": [
  {
   "cell_type": "code",
   "execution_count": 1,
   "id": "10b79e35-58f9-4b17-8fe8-97e967c31713",
   "metadata": {},
   "outputs": [],
   "source": [
    "import requests\n",
    "import json\n",
    "import sys\n",
    "\n",
    "from graph_parser import json2routes\n",
    "from aicp2cytoscape import route2cyjs, show_in_cytotscape, apply_style, apply_layout\n",
    "\n",
    "### Config Section\n",
    "\n",
    "JSON_FILE_PATH = \"../data/case_study_3.json\"\n",
    "\n",
    "\n",
    "\n",
    "\n",
    "# Only for reproduction purposes\n",
    "def save_json_to_disk(route_response):\n",
    "    \"\"\"Save JSON to disk by calling the specified endpoint.\"\"\"\n",
    "\n",
    "    if route_response.status_code == 200:\n",
    "        #print (route_response.json())\n",
    "        #route = route_response.json()\n",
    "        with open(JSON_FILE_PATH, \"w\") as file:\n",
    "            file.write(route_response.text)\n",
    "        print(\"JSON saved to disk successfully!\")\n",
    "    else:\n",
    "        print(f\"Failed to save JSON. Status code: {response.status_code}, Response: {response.text}\")\n",
    "\n",
    "def load_routes ():\n",
    "\n",
    "    # Open and read the JSON file\n",
    "    with open(JSON_FILE_PATH, 'r') as file:\n",
    "        data = json.load(file)\n",
    "    \n",
    "    # Print the data\n",
    "    print(data)\n",
    "\n",
    "    return (data)\n",
    "\n"
   ]
  },
  {
   "cell_type": "code",
   "execution_count": null,
   "id": "07db57b2-992b-4507-ad6d-b75d8bd81bc1",
   "metadata": {},
   "outputs": [],
   "source": [
    "\n",
    "\n",
    "\n",
    "#routes_response = fetch_routes (SYNTH_URL) \n",
    "#save_json_to_disk(routes_response)\n",
    "\n",
    "\n",
    "\n",
    "synth_routes = []\n",
    "\n",
    "\n",
    "#synth_routes = json2routes (routes_response.json())\n",
    "\n",
    "synth_routes = json2routes(load_routes ())\n",
    "\n",
    "\n",
    "\n",
    "print (len(synth_routes))\n",
    "\n",
    "for S in synth_routes:\n",
    "    cy_json = route2cyjs(S)\n",
    "    print(cy_json)\n",
    "\n",
    "\n",
    "    #print (synth_routes)\n",
    "    \n",
    "    suid = show_in_cytotscape(cy_json)\n",
    "    print (suid)\n",
    "    \n",
    "    apply_style (suid)\n",
    "    \n",
    "    apply_layout (suid)\n",
    "    \n",
    "\n"
   ]
  },
  {
   "cell_type": "code",
   "execution_count": 3,
   "id": "c492ac1b-6ee9-4783-848a-941816335660",
   "metadata": {},
   "outputs": [],
   "source": [
    "# References\n",
    "\n",
    "# Ref: https://www.datacamp.com/tutorial/python-round-to-two-decimal-places\n",
    "# Ref: https://www.geeksforgeeks.org/read-json-file-using-python/\n",
    "\n"
   ]
  }
 ],
 "metadata": {
  "kernelspec": {
   "display_name": "syngps",
   "language": "python",
   "name": "python3"
  },
  "language_info": {
   "codemirror_mode": {
    "name": "ipython",
    "version": 3
   },
   "file_extension": ".py",
   "mimetype": "text/x-python",
   "name": "python",
   "nbconvert_exporter": "python",
   "pygments_lexer": "ipython3",
   "version": "3.12.2"
  }
 },
 "nbformat": 4,
 "nbformat_minor": 5
}
