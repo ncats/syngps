{
 "cells": [
  {
   "cell_type": "code",
   "execution_count": 8,
   "id": "47a4c8d0-dfa4-44af-b794-03267e5ea8f0",
   "metadata": {},
   "outputs": [],
   "source": [
    "import json\n",
    "\n",
    "from cy_graph_parser import json2synthgraph\n",
    "\n",
    "import utils.graph_utils as gu\n",
    "from utils.graph_utils import remove_incompatible_reactions, generate_combination_graphs, find_viable_route\n",
    "\n",
    "\n",
    "import requests\n",
    "import sys\n",
    "\n",
    "from graph_parser import json2routes\n",
    "from aicp2cytoscape import synth_graph2cyjs, route2cyjs, show_in_cytotscape, apply_style, apply_layout"
   ]
  },
  {
   "cell_type": "code",
   "execution_count": 9,
   "id": "27f2d741-f91d-4ecd-842a-6447bff24b80",
   "metadata": {},
   "outputs": [],
   "source": [
    "JSON_FILE_PATH = '../data/cs1.cyjs'\n",
    "\n",
    "TMID = '865'"
   ]
  },
  {
   "cell_type": "code",
   "execution_count": 10,
   "id": "61709cc5-a6c3-4a46-b719-022496221deb",
   "metadata": {},
   "outputs": [],
   "source": [
    "def load_synth_graph ():\n",
    "\n",
    "    # Open and read the JSON file\n",
    "    with open(JSON_FILE_PATH, 'r') as file:\n",
    "        data = json.load(file)\n",
    "    \n",
    "    # Print the data\n",
    "    #print(data)\n",
    "\n",
    "    return (data)\n",
    "\n",
    "\n",
    "\n"
   ]
  },
  {
   "cell_type": "code",
   "execution_count": 11,
   "id": "3d1a8424-2cfb-46c1-b68d-9643b67c11fa",
   "metadata": {},
   "outputs": [
    {
     "name": "stdout",
     "output_type": "stream",
     "text": [
      "DiGraph with 33 nodes and 35 edges\n"
     ]
    }
   ],
   "source": [
    "\n",
    "G_sg = json2synthgraph(load_synth_graph ())\n",
    "\n",
    "   \n",
    "print(G_sg)"
   ]
  },
  {
   "cell_type": "code",
   "execution_count": 12,
   "id": "616d2190-2b77-475f-b4ab-db22168fa395",
   "metadata": {},
   "outputs": [
    {
     "name": "stdout",
     "output_type": "stream",
     "text": [
      "(<networkx.classes.digraph.DiGraph object at 0x129361160>, 'Route Candidate is not a DAG')\n",
      "(<networkx.classes.digraph.DiGraph object at 0x12f6bd7c0>, 'Viable Route Candidate')\n",
      "(<networkx.classes.digraph.DiGraph object at 0x129306d20>, 'Route Candidate Only Contains Target Molecule')\n",
      "DiGraph with 7 nodes and 6 edges\n"
     ]
    }
   ],
   "source": [
    "# Generatig the artifact-free synthesis graph\n",
    "G_sg_af = gu.remove_incompatible_reactions (G_sg.copy(), target_molecule_node_id = TMID)\n",
    "\n",
    "# Generating combination graphs\n",
    "# and allowing to find all combination graphs based on the edge-betweenness centrality (EBC) method\n",
    "G_combinations = []\n",
    "G_combinations = gu.generate_combination_graphs (G_sg_af.copy(), method = \"ebc\", max_nr = 0)\n",
    "\n",
    "\n",
    "\n",
    "# Identifying Viable Synthesis Routes (VSRs)\n",
    "VSRs = []\n",
    "for C in G_combinations:\n",
    "    R = gu.find_viable_route (C, target_module_node_id = TMID)\n",
    "    print (R)\n",
    "    \n",
    "    if R[1] == 'Viable Route Candidate':\n",
    "        VSRs.append(R[0])\n",
    "\n",
    "for VSR in VSRs:\n",
    "    print (VSR)\n",
    "\n",
    "\n",
    "# Results check out with that of manually derived in Case Study 1\n",
    "# GZK\n",
    "\n",
    "\n",
    "\n"
   ]
  },
  {
   "cell_type": "code",
   "execution_count": 13,
   "id": "045f0d54-4903-4b41-a931-04d2f63b6589",
   "metadata": {},
   "outputs": [
    {
     "name": "stdout",
     "output_type": "stream",
     "text": [
      "{'data': [], 'directed': True, 'multigraph': False, 'elements': {'nodes': [{'data': {'uuid': '919', 'node_type': 'substance', 'inchikey': 'inchikey_placeholder', 'node_label': 's15', 'name': '919', 'srole': 'sm', 'node_id': '919', 'id': '919', 'value': '919'}}, {'data': {'uuid': '917', 'node_type': 'substance', 'inchikey': 'inchikey_placeholder', 'node_label': 's6', 'name': '917', 'srole': 'sm', 'node_id': '917', 'id': '917', 'value': '917'}}, {'data': {'uuid': '915', 'node_type': 'substance', 'inchikey': 'inchikey_placeholder', 'node_label': 's7', 'name': '915', 'srole': 'sm', 'node_id': '915', 'id': '915', 'value': '915'}}, {'data': {'uuid': '913', 'node_type': 'reaction', 'rxid': 'r4', 'node_label': 'r4', 'name': '913', 'yield_score': 1.0, 'yield_predicted': 1.0, 'rxsmiles': 'rxsmiles_placeholder', 'node_id': '913', 'id': '913', 'value': '913'}}, {'data': {'uuid': '911', 'node_type': 'substance', 'inchikey': 'inchikey_placeholder', 'node_label': 's2', 'name': '911', 'srole': 'sm', 'node_id': '911', 'id': '911', 'value': '911'}}, {'data': {'uuid': '909', 'node_type': 'substance', 'inchikey': 'inchikey_placeholder', 'node_label': 's1', 'name': '909', 'srole': 'im', 'node_id': '909', 'id': '909', 'value': '909'}}, {'data': {'uuid': '907', 'node_type': 'reaction', 'rxid': 'r1', 'node_label': 'r1', 'name': '907', 'yield_score': 1.0, 'yield_predicted': 1.0, 'rxsmiles': 'rxsmiles_placeholder', 'node_id': '907', 'id': '907', 'value': '907'}}, {'data': {'uuid': '905', 'node_type': 'substance', 'inchikey': 'inchikey_placeholder', 'node_label': 's21', 'name': '905', 'srole': 'im', 'node_id': '905', 'id': '905', 'value': '905'}}, {'data': {'uuid': '903', 'node_type': 'substance', 'inchikey': 'inchikey_placeholder', 'node_label': 's20', 'name': '903', 'srole': 'sm', 'node_id': '903', 'id': '903', 'value': '903'}}, {'data': {'uuid': '901', 'node_type': 'reaction', 'rxid': 'r11', 'node_label': 'r11', 'name': '901', 'yield_score': 1.0, 'yield_predicted': 1.0, 'rxsmiles': 'rxsmiles_placeholder', 'node_id': '901', 'id': '901', 'value': '901'}}, {'data': {'uuid': '899', 'node_type': 'substance', 'inchikey': 'inchikey_placeholder', 'node_label': 's5', 'name': '899', 'srole': 'sm', 'node_id': '899', 'id': '899', 'value': '899'}}, {'data': {'uuid': '897', 'node_type': 'reaction', 'rxid': 'r3', 'node_label': 'r3', 'name': '897', 'yield_score': 1.0, 'yield_predicted': 1.0, 'rxsmiles': 'rxsmiles_placeholder', 'node_id': '897', 'id': '897', 'value': '897'}}, {'data': {'uuid': '895', 'node_type': 'substance', 'inchikey': 'inchikey_placeholder', 'node_label': 's19', 'name': '895', 'srole': 'im', 'node_id': '895', 'id': '895', 'value': '895'}}, {'data': {'uuid': '893', 'node_type': 'substance', 'inchikey': 'inchikey_placeholder', 'node_label': 's18', 'name': '893', 'srole': 'sm', 'node_id': '893', 'id': '893', 'value': '893'}}, {'data': {'uuid': '891', 'node_type': 'reaction', 'rxid': 'r10', 'node_label': 'r10', 'name': '891', 'yield_score': 1.0, 'yield_predicted': 1.0, 'rxsmiles': 'rxsmiles_placeholder', 'node_id': '891', 'id': '891', 'value': '891'}}, {'data': {'uuid': '889', 'node_type': 'substance', 'inchikey': 'inchikey_placeholder', 'node_label': 's16', 'name': '889', 'srole': 'im', 'node_id': '889', 'id': '889', 'value': '889'}}, {'data': {'uuid': '887', 'node_type': 'substance', 'inchikey': 'inchikey_placeholder', 'node_label': 's17', 'name': '887', 'srole': 'sm', 'node_id': '887', 'id': '887', 'value': '887'}}, {'data': {'uuid': '885', 'node_type': 'substance', 'inchikey': 'inchikey_placeholder', 'node_label': 's9', 'name': '885', 'srole': 'sm', 'node_id': '885', 'id': '885', 'value': '885'}}, {'data': {'uuid': '883', 'node_type': 'substance', 'inchikey': 'inchikey_placeholder', 'node_label': 's8', 'name': '883', 'srole': 'sm', 'node_id': '883', 'id': '883', 'value': '883'}}, {'data': {'uuid': '881', 'node_type': 'substance', 'inchikey': 'inchikey_placeholder', 'node_label': 's10', 'name': '881', 'srole': 'sm', 'node_id': '881', 'id': '881', 'value': '881'}}, {'data': {'uuid': '879', 'node_type': 'reaction', 'rxid': 'r9', 'node_label': 'r9', 'name': '879', 'yield_score': 1.0, 'yield_predicted': 1.0, 'rxsmiles': 'rxsmiles_placeholder', 'node_id': '879', 'id': '879', 'value': '879'}}, {'data': {'uuid': '877', 'node_type': 'reaction', 'rxid': 'r5', 'node_label': 'r5', 'name': '877', 'yield_score': 1.0, 'yield_predicted': 1.0, 'rxsmiles': 'rxsmiles_placeholder', 'node_id': '877', 'id': '877', 'value': '877'}}, {'data': {'uuid': '875', 'node_type': 'substance', 'inchikey': 'inchikey_placeholder', 'node_label': 's4', 'name': '875', 'srole': 'sm', 'node_id': '875', 'id': '875', 'value': '875'}}, {'data': {'uuid': '873', 'node_type': 'reaction', 'rxid': 'r8', 'node_label': 'r8', 'name': '873', 'yield_score': 1.0, 'yield_predicted': 1.0, 'rxsmiles': 'rxsmiles_placeholder', 'node_id': '873', 'id': '873', 'value': '873'}}, {'data': {'uuid': '871', 'node_type': 'substance', 'inchikey': 'inchikey_placeholder', 'node_label': 's3', 'name': '871', 'srole': 'im', 'node_id': '871', 'id': '871', 'value': '871'}}, {'data': {'uuid': '869', 'node_type': 'substance', 'inchikey': 'inchikey_placeholder', 'node_label': 's14', 'name': '869', 'srole': 'im', 'node_id': '869', 'id': '869', 'value': '869'}}, {'data': {'uuid': '867', 'node_type': 'reaction', 'rxid': 'r2', 'node_label': 'r2', 'name': '867', 'yield_score': 1.0, 'yield_predicted': 1.0, 'rxsmiles': 'rxsmiles_placeholder', 'node_id': '867', 'id': '867', 'value': '867'}}, {'data': {'uuid': '865', 'node_type': 'substance', 'inchikey': 'inchikey_placeholder', 'node_label': 'sTM', 'name': '865', 'srole': 'tm', 'node_id': '865', 'id': '865', 'value': '865'}}, {'data': {'uuid': '863', 'node_type': 'reaction', 'rxid': 'r7', 'node_label': 'r7', 'name': '863', 'yield_score': 1.0, 'yield_predicted': 1.0, 'rxsmiles': 'rxsmiles_placeholder', 'node_id': '863', 'id': '863', 'value': '863'}}, {'data': {'uuid': '861', 'node_type': 'substance', 'inchikey': 'inchikey_placeholder', 'node_label': 's13', 'name': '861', 'srole': 'sm', 'node_id': '861', 'id': '861', 'value': '861'}}, {'data': {'uuid': '859', 'node_type': 'substance', 'inchikey': 'inchikey_placeholder', 'node_label': 's11', 'name': '859', 'srole': 'sm', 'node_id': '859', 'id': '859', 'value': '859'}}, {'data': {'uuid': '857', 'node_type': 'substance', 'inchikey': 'inchikey_placeholder', 'node_label': 's12', 'name': '857', 'srole': 'sm', 'node_id': '857', 'id': '857', 'value': '857'}}, {'data': {'uuid': '855', 'node_type': 'reaction', 'rxid': 'r6', 'node_label': 'r6', 'name': '855', 'yield_score': 1.0, 'yield_predicted': 1.0, 'rxsmiles': 'rxsmiles_placeholder', 'node_id': '855', 'id': '855', 'value': '855'}}], 'edges': [{'data': {'uuid': '989', 'edge_type': 'reactant_of', 'source': '919', 'target': '873'}}, {'data': {'uuid': '987', 'edge_type': 'reactant_of', 'source': '917', 'target': '913'}}, {'data': {'uuid': '985', 'edge_type': 'reactant_of', 'source': '915', 'target': '913'}}, {'data': {'uuid': '983', 'edge_type': 'product_of', 'source': '913', 'target': '909'}}, {'data': {'uuid': '981', 'edge_type': 'reactant_of', 'source': '911', 'target': '907'}}, {'data': {'uuid': '979', 'edge_type': 'reactant_of', 'source': '909', 'target': '907'}}, {'data': {'uuid': '977', 'edge_type': 'product_of', 'source': '907', 'target': '865'}}, {'data': {'uuid': '975', 'edge_type': 'reactant_of', 'source': '905', 'target': '901'}}, {'data': {'uuid': '973', 'edge_type': 'reactant_of', 'source': '903', 'target': '901'}}, {'data': {'uuid': '971', 'edge_type': 'product_of', 'source': '901', 'target': '895'}}, {'data': {'uuid': '969', 'edge_type': 'reactant_of', 'source': '899', 'target': '897'}}, {'data': {'uuid': '967', 'edge_type': 'product_of', 'source': '897', 'target': '865'}}, {'data': {'uuid': '965', 'edge_type': 'reactant_of', 'source': '895', 'target': '891'}}, {'data': {'uuid': '963', 'edge_type': 'reactant_of', 'source': '893', 'target': '891'}}, {'data': {'uuid': '961', 'edge_type': 'product_of', 'source': '891', 'target': '889'}}, {'data': {'uuid': '959', 'edge_type': 'reactant_of', 'source': '889', 'target': '879'}}, {'data': {'uuid': '957', 'edge_type': 'reactant_of', 'source': '887', 'target': '879'}}, {'data': {'uuid': '955', 'edge_type': 'reactant_of', 'source': '885', 'target': '877'}}, {'data': {'uuid': '953', 'edge_type': 'reactant_of', 'source': '883', 'target': '877'}}, {'data': {'uuid': '951', 'edge_type': 'reactant_of', 'source': '881', 'target': '877'}}, {'data': {'uuid': '949', 'edge_type': 'product_of', 'source': '879', 'target': '869'}}, {'data': {'uuid': '947', 'edge_type': 'product_of', 'source': '877', 'target': '871'}}, {'data': {'uuid': '945', 'edge_type': 'reactant_of', 'source': '875', 'target': '867'}}, {'data': {'uuid': '943', 'edge_type': 'product_of', 'source': '873', 'target': '905'}}, {'data': {'uuid': '941', 'edge_type': 'reactant_of', 'source': '871', 'target': '867'}}, {'data': {'uuid': '939', 'edge_type': 'reactant_of', 'source': '869', 'target': '897'}}, {'data': {'uuid': '937', 'edge_type': 'reactant_of', 'source': '869', 'target': '873'}}, {'data': {'uuid': '935', 'edge_type': 'reactant_of', 'source': '869', 'target': '863'}}, {'data': {'uuid': '933', 'edge_type': 'product_of', 'source': '867', 'target': '865'}}, {'data': {'uuid': '931', 'edge_type': 'reactant_of', 'source': '865', 'target': '913'}}, {'data': {'uuid': '929', 'edge_type': 'product_of', 'source': '863', 'target': '857'}}, {'data': {'uuid': '927', 'edge_type': 'reactant_of', 'source': '861', 'target': '863'}}, {'data': {'uuid': '925', 'edge_type': 'reactant_of', 'source': '859', 'target': '855'}}, {'data': {'uuid': '923', 'edge_type': 'reactant_of', 'source': '857', 'target': '855'}}, {'data': {'uuid': '921', 'edge_type': 'product_of', 'source': '855', 'target': '871'}}]}}\n",
      "Network created with SUID: 19872\n",
      "Network view created.\n",
      "19872\n",
      "Existing styles: ['BioPAX_SIF', 'aicp_style', 'New SynGPS API_12', 'New SynGPS API_8', 'New SynGPS API_10', 'New SynGPS API_2', 'New SynGPS API_13', 'New SynGPS API_18', 'New SynGPS API_15', 'New SynGPS API_4', 'New SynGPS API_6', 'default', 'New SynGPS API_7', 'New SynGPS API_5', 'New SynGPS API_0', 'BioPAX', 'New SynGPS API_9', 'New SynGPS API', 'New SynGPS API_11', 'New SynGPS API_1', 'New SynGPS API_14', 'New SynGPS API_3', 'New SynGPS API_16', 'New SynGPS API_17', 'size_rank']\n",
      "Style 'New SynGPS API' already exists. Applying existing style.\n",
      "Style 'New SynGPS API' applied to the network.\n",
      "Layout 'hierarchical' applied to the network.\n",
      "{'data': [], 'directed': True, 'multigraph': False, 'elements': {'nodes': [{'data': {'uuid': '919', 'node_type': 'substance', 'inchikey': 'inchikey_placeholder', 'node_label': 's15', 'name': '919', 'srole': 'sm', 'node_id': '919', 'id': '919', 'value': '919'}}, {'data': {'uuid': '911', 'node_type': 'substance', 'inchikey': 'inchikey_placeholder', 'node_label': 's2', 'name': '911', 'srole': 'sm', 'node_id': '911', 'id': '911', 'value': '911'}}, {'data': {'uuid': '909', 'node_type': 'substance', 'inchikey': 'inchikey_placeholder', 'node_label': 's1', 'name': '909', 'srole': 'im', 'node_id': '909', 'id': '909', 'value': '909'}}, {'data': {'uuid': '907', 'node_type': 'reaction', 'rxid': 'r1', 'node_label': 'r1', 'name': '907', 'yield_score': 1.0, 'yield_predicted': 1.0, 'rxsmiles': 'rxsmiles_placeholder', 'node_id': '907', 'id': '907', 'value': '907'}}, {'data': {'uuid': '905', 'node_type': 'substance', 'inchikey': 'inchikey_placeholder', 'node_label': 's21', 'name': '905', 'srole': 'im', 'node_id': '905', 'id': '905', 'value': '905'}}, {'data': {'uuid': '903', 'node_type': 'substance', 'inchikey': 'inchikey_placeholder', 'node_label': 's20', 'name': '903', 'srole': 'sm', 'node_id': '903', 'id': '903', 'value': '903'}}, {'data': {'uuid': '901', 'node_type': 'reaction', 'rxid': 'r11', 'node_label': 'r11', 'name': '901', 'yield_score': 1.0, 'yield_predicted': 1.0, 'rxsmiles': 'rxsmiles_placeholder', 'node_id': '901', 'id': '901', 'value': '901'}}, {'data': {'uuid': '899', 'node_type': 'substance', 'inchikey': 'inchikey_placeholder', 'node_label': 's5', 'name': '899', 'srole': 'sm', 'node_id': '899', 'id': '899', 'value': '899'}}, {'data': {'uuid': '897', 'node_type': 'reaction', 'rxid': 'r3', 'node_label': 'r3', 'name': '897', 'yield_score': 1.0, 'yield_predicted': 1.0, 'rxsmiles': 'rxsmiles_placeholder', 'node_id': '897', 'id': '897', 'value': '897'}}, {'data': {'uuid': '895', 'node_type': 'substance', 'inchikey': 'inchikey_placeholder', 'node_label': 's19', 'name': '895', 'srole': 'im', 'node_id': '895', 'id': '895', 'value': '895'}}, {'data': {'uuid': '893', 'node_type': 'substance', 'inchikey': 'inchikey_placeholder', 'node_label': 's18', 'name': '893', 'srole': 'sm', 'node_id': '893', 'id': '893', 'value': '893'}}, {'data': {'uuid': '891', 'node_type': 'reaction', 'rxid': 'r10', 'node_label': 'r10', 'name': '891', 'yield_score': 1.0, 'yield_predicted': 1.0, 'rxsmiles': 'rxsmiles_placeholder', 'node_id': '891', 'id': '891', 'value': '891'}}, {'data': {'uuid': '889', 'node_type': 'substance', 'inchikey': 'inchikey_placeholder', 'node_label': 's16', 'name': '889', 'srole': 'im', 'node_id': '889', 'id': '889', 'value': '889'}}, {'data': {'uuid': '887', 'node_type': 'substance', 'inchikey': 'inchikey_placeholder', 'node_label': 's17', 'name': '887', 'srole': 'sm', 'node_id': '887', 'id': '887', 'value': '887'}}, {'data': {'uuid': '885', 'node_type': 'substance', 'inchikey': 'inchikey_placeholder', 'node_label': 's9', 'name': '885', 'srole': 'sm', 'node_id': '885', 'id': '885', 'value': '885'}}, {'data': {'uuid': '883', 'node_type': 'substance', 'inchikey': 'inchikey_placeholder', 'node_label': 's8', 'name': '883', 'srole': 'sm', 'node_id': '883', 'id': '883', 'value': '883'}}, {'data': {'uuid': '881', 'node_type': 'substance', 'inchikey': 'inchikey_placeholder', 'node_label': 's10', 'name': '881', 'srole': 'sm', 'node_id': '881', 'id': '881', 'value': '881'}}, {'data': {'uuid': '879', 'node_type': 'reaction', 'rxid': 'r9', 'node_label': 'r9', 'name': '879', 'yield_score': 1.0, 'yield_predicted': 1.0, 'rxsmiles': 'rxsmiles_placeholder', 'node_id': '879', 'id': '879', 'value': '879'}}, {'data': {'uuid': '877', 'node_type': 'reaction', 'rxid': 'r5', 'node_label': 'r5', 'name': '877', 'yield_score': 1.0, 'yield_predicted': 1.0, 'rxsmiles': 'rxsmiles_placeholder', 'node_id': '877', 'id': '877', 'value': '877'}}, {'data': {'uuid': '875', 'node_type': 'substance', 'inchikey': 'inchikey_placeholder', 'node_label': 's4', 'name': '875', 'srole': 'sm', 'node_id': '875', 'id': '875', 'value': '875'}}, {'data': {'uuid': '873', 'node_type': 'reaction', 'rxid': 'r8', 'node_label': 'r8', 'name': '873', 'yield_score': 1.0, 'yield_predicted': 1.0, 'rxsmiles': 'rxsmiles_placeholder', 'node_id': '873', 'id': '873', 'value': '873'}}, {'data': {'uuid': '871', 'node_type': 'substance', 'inchikey': 'inchikey_placeholder', 'node_label': 's3', 'name': '871', 'srole': 'im', 'node_id': '871', 'id': '871', 'value': '871'}}, {'data': {'uuid': '869', 'node_type': 'substance', 'inchikey': 'inchikey_placeholder', 'node_label': 's14', 'name': '869', 'srole': 'im', 'node_id': '869', 'id': '869', 'value': '869'}}, {'data': {'uuid': '867', 'node_type': 'reaction', 'rxid': 'r2', 'node_label': 'r2', 'name': '867', 'yield_score': 1.0, 'yield_predicted': 1.0, 'rxsmiles': 'rxsmiles_placeholder', 'node_id': '867', 'id': '867', 'value': '867'}}, {'data': {'uuid': '865', 'node_type': 'substance', 'inchikey': 'inchikey_placeholder', 'node_label': 'sTM', 'name': '865', 'srole': 'tm', 'node_id': '865', 'id': '865', 'value': '865'}}, {'data': {'uuid': '859', 'node_type': 'substance', 'inchikey': 'inchikey_placeholder', 'node_label': 's11', 'name': '859', 'srole': 'sm', 'node_id': '859', 'id': '859', 'value': '859'}}, {'data': {'uuid': '857', 'node_type': 'substance', 'inchikey': 'inchikey_placeholder', 'node_label': 's12', 'name': '857', 'srole': 'sm', 'node_id': '857', 'id': '857', 'value': '857'}}, {'data': {'uuid': '855', 'node_type': 'reaction', 'rxid': 'r6', 'node_label': 'r6', 'name': '855', 'yield_score': 1.0, 'yield_predicted': 1.0, 'rxsmiles': 'rxsmiles_placeholder', 'node_id': '855', 'id': '855', 'value': '855'}}], 'edges': [{'data': {'uuid': '989', 'edge_type': 'reactant_of', 'source': '919', 'target': '873'}}, {'data': {'uuid': '981', 'edge_type': 'reactant_of', 'source': '911', 'target': '907'}}, {'data': {'uuid': '979', 'edge_type': 'reactant_of', 'source': '909', 'target': '907'}}, {'data': {'uuid': '977', 'edge_type': 'product_of', 'source': '907', 'target': '865'}}, {'data': {'uuid': '975', 'edge_type': 'reactant_of', 'source': '905', 'target': '901'}}, {'data': {'uuid': '973', 'edge_type': 'reactant_of', 'source': '903', 'target': '901'}}, {'data': {'uuid': '971', 'edge_type': 'product_of', 'source': '901', 'target': '895'}}, {'data': {'uuid': '969', 'edge_type': 'reactant_of', 'source': '899', 'target': '897'}}, {'data': {'uuid': '967', 'edge_type': 'product_of', 'source': '897', 'target': '865'}}, {'data': {'uuid': '965', 'edge_type': 'reactant_of', 'source': '895', 'target': '891'}}, {'data': {'uuid': '963', 'edge_type': 'reactant_of', 'source': '893', 'target': '891'}}, {'data': {'uuid': '961', 'edge_type': 'product_of', 'source': '891', 'target': '889'}}, {'data': {'uuid': '959', 'edge_type': 'reactant_of', 'source': '889', 'target': '879'}}, {'data': {'uuid': '957', 'edge_type': 'reactant_of', 'source': '887', 'target': '879'}}, {'data': {'uuid': '955', 'edge_type': 'reactant_of', 'source': '885', 'target': '877'}}, {'data': {'uuid': '953', 'edge_type': 'reactant_of', 'source': '883', 'target': '877'}}, {'data': {'uuid': '951', 'edge_type': 'reactant_of', 'source': '881', 'target': '877'}}, {'data': {'uuid': '949', 'edge_type': 'product_of', 'source': '879', 'target': '869'}}, {'data': {'uuid': '947', 'edge_type': 'product_of', 'source': '877', 'target': '871'}}, {'data': {'uuid': '945', 'edge_type': 'reactant_of', 'source': '875', 'target': '867'}}, {'data': {'uuid': '943', 'edge_type': 'product_of', 'source': '873', 'target': '905'}}, {'data': {'uuid': '941', 'edge_type': 'reactant_of', 'source': '871', 'target': '867'}}, {'data': {'uuid': '939', 'edge_type': 'reactant_of', 'source': '869', 'target': '897'}}, {'data': {'uuid': '937', 'edge_type': 'reactant_of', 'source': '869', 'target': '873'}}, {'data': {'uuid': '933', 'edge_type': 'product_of', 'source': '867', 'target': '865'}}, {'data': {'uuid': '925', 'edge_type': 'reactant_of', 'source': '859', 'target': '855'}}, {'data': {'uuid': '923', 'edge_type': 'reactant_of', 'source': '857', 'target': '855'}}, {'data': {'uuid': '921', 'edge_type': 'product_of', 'source': '855', 'target': '871'}}]}}\n",
      "Network created with SUID: 20369\n",
      "Network view created.\n",
      "20369\n",
      "Existing styles: ['BioPAX_SIF', 'aicp_style', 'New SynGPS API_12', 'New SynGPS API_8', 'New SynGPS API_10', 'New SynGPS API_2', 'New SynGPS API_13', 'New SynGPS API_18', 'New SynGPS API_15', 'New SynGPS API_4', 'New SynGPS API_6', 'default', 'New SynGPS API_7', 'New SynGPS API_5', 'New SynGPS API_0', 'BioPAX', 'New SynGPS API_9', 'New SynGPS API', 'New SynGPS API_11', 'New SynGPS API_1', 'New SynGPS API_14', 'New SynGPS API_3', 'New SynGPS API_16', 'New SynGPS API_17', 'size_rank']\n",
      "Style 'New SynGPS API' already exists. Applying existing style.\n",
      "Style 'New SynGPS API' applied to the network.\n",
      "Layout 'hierarchical' applied to the network.\n",
      "{'data': [], 'directed': True, 'multigraph': False, 'elements': {'nodes': [{'data': {'uuid': '919', 'node_type': 'substance', 'inchikey': 'inchikey_placeholder', 'node_label': 's15', 'name': '919', 'srole': 'sm', 'node_id': '919', 'id': '919', 'value': '919'}}, {'data': {'uuid': '911', 'node_type': 'substance', 'inchikey': 'inchikey_placeholder', 'node_label': 's2', 'name': '911', 'srole': 'sm', 'node_id': '911', 'id': '911', 'value': '911'}}, {'data': {'uuid': '909', 'node_type': 'substance', 'inchikey': 'inchikey_placeholder', 'node_label': 's1', 'name': '909', 'srole': 'im', 'node_id': '909', 'id': '909', 'value': '909'}}, {'data': {'uuid': '907', 'node_type': 'reaction', 'rxid': 'r1', 'node_label': 'r1', 'name': '907', 'yield_score': 1.0, 'yield_predicted': 1.0, 'rxsmiles': 'rxsmiles_placeholder', 'node_id': '907', 'id': '907', 'value': '907'}}, {'data': {'uuid': '905', 'node_type': 'substance', 'inchikey': 'inchikey_placeholder', 'node_label': 's21', 'name': '905', 'srole': 'im', 'node_id': '905', 'id': '905', 'value': '905'}}, {'data': {'uuid': '903', 'node_type': 'substance', 'inchikey': 'inchikey_placeholder', 'node_label': 's20', 'name': '903', 'srole': 'sm', 'node_id': '903', 'id': '903', 'value': '903'}}, {'data': {'uuid': '901', 'node_type': 'reaction', 'rxid': 'r11', 'node_label': 'r11', 'name': '901', 'yield_score': 1.0, 'yield_predicted': 1.0, 'rxsmiles': 'rxsmiles_placeholder', 'node_id': '901', 'id': '901', 'value': '901'}}, {'data': {'uuid': '899', 'node_type': 'substance', 'inchikey': 'inchikey_placeholder', 'node_label': 's5', 'name': '899', 'srole': 'sm', 'node_id': '899', 'id': '899', 'value': '899'}}, {'data': {'uuid': '897', 'node_type': 'reaction', 'rxid': 'r3', 'node_label': 'r3', 'name': '897', 'yield_score': 1.0, 'yield_predicted': 1.0, 'rxsmiles': 'rxsmiles_placeholder', 'node_id': '897', 'id': '897', 'value': '897'}}, {'data': {'uuid': '895', 'node_type': 'substance', 'inchikey': 'inchikey_placeholder', 'node_label': 's19', 'name': '895', 'srole': 'im', 'node_id': '895', 'id': '895', 'value': '895'}}, {'data': {'uuid': '893', 'node_type': 'substance', 'inchikey': 'inchikey_placeholder', 'node_label': 's18', 'name': '893', 'srole': 'sm', 'node_id': '893', 'id': '893', 'value': '893'}}, {'data': {'uuid': '891', 'node_type': 'reaction', 'rxid': 'r10', 'node_label': 'r10', 'name': '891', 'yield_score': 1.0, 'yield_predicted': 1.0, 'rxsmiles': 'rxsmiles_placeholder', 'node_id': '891', 'id': '891', 'value': '891'}}, {'data': {'uuid': '889', 'node_type': 'substance', 'inchikey': 'inchikey_placeholder', 'node_label': 's16', 'name': '889', 'srole': 'im', 'node_id': '889', 'id': '889', 'value': '889'}}, {'data': {'uuid': '887', 'node_type': 'substance', 'inchikey': 'inchikey_placeholder', 'node_label': 's17', 'name': '887', 'srole': 'sm', 'node_id': '887', 'id': '887', 'value': '887'}}, {'data': {'uuid': '885', 'node_type': 'substance', 'inchikey': 'inchikey_placeholder', 'node_label': 's9', 'name': '885', 'srole': 'sm', 'node_id': '885', 'id': '885', 'value': '885'}}, {'data': {'uuid': '883', 'node_type': 'substance', 'inchikey': 'inchikey_placeholder', 'node_label': 's8', 'name': '883', 'srole': 'sm', 'node_id': '883', 'id': '883', 'value': '883'}}, {'data': {'uuid': '881', 'node_type': 'substance', 'inchikey': 'inchikey_placeholder', 'node_label': 's10', 'name': '881', 'srole': 'sm', 'node_id': '881', 'id': '881', 'value': '881'}}, {'data': {'uuid': '879', 'node_type': 'reaction', 'rxid': 'r9', 'node_label': 'r9', 'name': '879', 'yield_score': 1.0, 'yield_predicted': 1.0, 'rxsmiles': 'rxsmiles_placeholder', 'node_id': '879', 'id': '879', 'value': '879'}}, {'data': {'uuid': '877', 'node_type': 'reaction', 'rxid': 'r5', 'node_label': 'r5', 'name': '877', 'yield_score': 1.0, 'yield_predicted': 1.0, 'rxsmiles': 'rxsmiles_placeholder', 'node_id': '877', 'id': '877', 'value': '877'}}, {'data': {'uuid': '875', 'node_type': 'substance', 'inchikey': 'inchikey_placeholder', 'node_label': 's4', 'name': '875', 'srole': 'sm', 'node_id': '875', 'id': '875', 'value': '875'}}, {'data': {'uuid': '873', 'node_type': 'reaction', 'rxid': 'r8', 'node_label': 'r8', 'name': '873', 'yield_score': 1.0, 'yield_predicted': 1.0, 'rxsmiles': 'rxsmiles_placeholder', 'node_id': '873', 'id': '873', 'value': '873'}}, {'data': {'uuid': '871', 'node_type': 'substance', 'inchikey': 'inchikey_placeholder', 'node_label': 's3', 'name': '871', 'srole': 'im', 'node_id': '871', 'id': '871', 'value': '871'}}, {'data': {'uuid': '869', 'node_type': 'substance', 'inchikey': 'inchikey_placeholder', 'node_label': 's14', 'name': '869', 'srole': 'im', 'node_id': '869', 'id': '869', 'value': '869'}}, {'data': {'uuid': '867', 'node_type': 'reaction', 'rxid': 'r2', 'node_label': 'r2', 'name': '867', 'yield_score': 1.0, 'yield_predicted': 1.0, 'rxsmiles': 'rxsmiles_placeholder', 'node_id': '867', 'id': '867', 'value': '867'}}, {'data': {'uuid': '865', 'node_type': 'substance', 'inchikey': 'inchikey_placeholder', 'node_label': 'sTM', 'name': '865', 'srole': 'tm', 'node_id': '865', 'id': '865', 'value': '865'}}, {'data': {'uuid': '859', 'node_type': 'substance', 'inchikey': 'inchikey_placeholder', 'node_label': 's11', 'name': '859', 'srole': 'sm', 'node_id': '859', 'id': '859', 'value': '859'}}, {'data': {'uuid': '857', 'node_type': 'substance', 'inchikey': 'inchikey_placeholder', 'node_label': 's12', 'name': '857', 'srole': 'sm', 'node_id': '857', 'id': '857', 'value': '857'}}, {'data': {'uuid': '855', 'node_type': 'reaction', 'rxid': 'r6', 'node_label': 'r6', 'name': '855', 'yield_score': 1.0, 'yield_predicted': 1.0, 'rxsmiles': 'rxsmiles_placeholder', 'node_id': '855', 'id': '855', 'value': '855'}}], 'edges': [{'data': {'uuid': '989', 'edge_type': 'reactant_of', 'source': '919', 'target': '873'}}, {'data': {'uuid': '981', 'edge_type': 'reactant_of', 'source': '911', 'target': '907'}}, {'data': {'uuid': '979', 'edge_type': 'reactant_of', 'source': '909', 'target': '907'}}, {'data': {'uuid': '975', 'edge_type': 'reactant_of', 'source': '905', 'target': '901'}}, {'data': {'uuid': '973', 'edge_type': 'reactant_of', 'source': '903', 'target': '901'}}, {'data': {'uuid': '971', 'edge_type': 'product_of', 'source': '901', 'target': '895'}}, {'data': {'uuid': '969', 'edge_type': 'reactant_of', 'source': '899', 'target': '897'}}, {'data': {'uuid': '967', 'edge_type': 'product_of', 'source': '897', 'target': '865'}}, {'data': {'uuid': '965', 'edge_type': 'reactant_of', 'source': '895', 'target': '891'}}, {'data': {'uuid': '963', 'edge_type': 'reactant_of', 'source': '893', 'target': '891'}}, {'data': {'uuid': '961', 'edge_type': 'product_of', 'source': '891', 'target': '889'}}, {'data': {'uuid': '959', 'edge_type': 'reactant_of', 'source': '889', 'target': '879'}}, {'data': {'uuid': '957', 'edge_type': 'reactant_of', 'source': '887', 'target': '879'}}, {'data': {'uuid': '955', 'edge_type': 'reactant_of', 'source': '885', 'target': '877'}}, {'data': {'uuid': '953', 'edge_type': 'reactant_of', 'source': '883', 'target': '877'}}, {'data': {'uuid': '951', 'edge_type': 'reactant_of', 'source': '881', 'target': '877'}}, {'data': {'uuid': '949', 'edge_type': 'product_of', 'source': '879', 'target': '869'}}, {'data': {'uuid': '947', 'edge_type': 'product_of', 'source': '877', 'target': '871'}}, {'data': {'uuid': '945', 'edge_type': 'reactant_of', 'source': '875', 'target': '867'}}, {'data': {'uuid': '943', 'edge_type': 'product_of', 'source': '873', 'target': '905'}}, {'data': {'uuid': '941', 'edge_type': 'reactant_of', 'source': '871', 'target': '867'}}, {'data': {'uuid': '939', 'edge_type': 'reactant_of', 'source': '869', 'target': '897'}}, {'data': {'uuid': '937', 'edge_type': 'reactant_of', 'source': '869', 'target': '873'}}, {'data': {'uuid': '925', 'edge_type': 'reactant_of', 'source': '859', 'target': '855'}}, {'data': {'uuid': '923', 'edge_type': 'reactant_of', 'source': '857', 'target': '855'}}]}}\n",
      "Network created with SUID: 20806\n",
      "Network view created.\n",
      "20806\n",
      "Existing styles: ['BioPAX_SIF', 'aicp_style', 'New SynGPS API_12', 'New SynGPS API_8', 'New SynGPS API_10', 'New SynGPS API_2', 'New SynGPS API_13', 'New SynGPS API_18', 'New SynGPS API_15', 'New SynGPS API_4', 'New SynGPS API_6', 'default', 'New SynGPS API_7', 'New SynGPS API_5', 'New SynGPS API_0', 'BioPAX', 'New SynGPS API_9', 'New SynGPS API', 'New SynGPS API_11', 'New SynGPS API_1', 'New SynGPS API_14', 'New SynGPS API_3', 'New SynGPS API_16', 'New SynGPS API_17', 'size_rank']\n",
      "Style 'New SynGPS API' already exists. Applying existing style.\n",
      "Style 'New SynGPS API' applied to the network.\n",
      "Layout 'hierarchical' applied to the network.\n",
      "{'data': [], 'directed': True, 'multigraph': False, 'elements': {'nodes': [{'data': {'uuid': '919', 'node_type': 'substance', 'inchikey': 'inchikey_placeholder', 'node_label': 's15', 'name': '919', 'srole': 'sm', 'node_id': '919', 'id': '919', 'value': '919'}}, {'data': {'uuid': '911', 'node_type': 'substance', 'inchikey': 'inchikey_placeholder', 'node_label': 's2', 'name': '911', 'srole': 'sm', 'node_id': '911', 'id': '911', 'value': '911'}}, {'data': {'uuid': '909', 'node_type': 'substance', 'inchikey': 'inchikey_placeholder', 'node_label': 's1', 'name': '909', 'srole': 'im', 'node_id': '909', 'id': '909', 'value': '909'}}, {'data': {'uuid': '907', 'node_type': 'reaction', 'rxid': 'r1', 'node_label': 'r1', 'name': '907', 'yield_score': 1.0, 'yield_predicted': 1.0, 'rxsmiles': 'rxsmiles_placeholder', 'node_id': '907', 'id': '907', 'value': '907'}}, {'data': {'uuid': '905', 'node_type': 'substance', 'inchikey': 'inchikey_placeholder', 'node_label': 's21', 'name': '905', 'srole': 'im', 'node_id': '905', 'id': '905', 'value': '905'}}, {'data': {'uuid': '903', 'node_type': 'substance', 'inchikey': 'inchikey_placeholder', 'node_label': 's20', 'name': '903', 'srole': 'sm', 'node_id': '903', 'id': '903', 'value': '903'}}, {'data': {'uuid': '901', 'node_type': 'reaction', 'rxid': 'r11', 'node_label': 'r11', 'name': '901', 'yield_score': 1.0, 'yield_predicted': 1.0, 'rxsmiles': 'rxsmiles_placeholder', 'node_id': '901', 'id': '901', 'value': '901'}}, {'data': {'uuid': '899', 'node_type': 'substance', 'inchikey': 'inchikey_placeholder', 'node_label': 's5', 'name': '899', 'srole': 'sm', 'node_id': '899', 'id': '899', 'value': '899'}}, {'data': {'uuid': '897', 'node_type': 'reaction', 'rxid': 'r3', 'node_label': 'r3', 'name': '897', 'yield_score': 1.0, 'yield_predicted': 1.0, 'rxsmiles': 'rxsmiles_placeholder', 'node_id': '897', 'id': '897', 'value': '897'}}, {'data': {'uuid': '895', 'node_type': 'substance', 'inchikey': 'inchikey_placeholder', 'node_label': 's19', 'name': '895', 'srole': 'im', 'node_id': '895', 'id': '895', 'value': '895'}}, {'data': {'uuid': '893', 'node_type': 'substance', 'inchikey': 'inchikey_placeholder', 'node_label': 's18', 'name': '893', 'srole': 'sm', 'node_id': '893', 'id': '893', 'value': '893'}}, {'data': {'uuid': '891', 'node_type': 'reaction', 'rxid': 'r10', 'node_label': 'r10', 'name': '891', 'yield_score': 1.0, 'yield_predicted': 1.0, 'rxsmiles': 'rxsmiles_placeholder', 'node_id': '891', 'id': '891', 'value': '891'}}, {'data': {'uuid': '889', 'node_type': 'substance', 'inchikey': 'inchikey_placeholder', 'node_label': 's16', 'name': '889', 'srole': 'im', 'node_id': '889', 'id': '889', 'value': '889'}}, {'data': {'uuid': '887', 'node_type': 'substance', 'inchikey': 'inchikey_placeholder', 'node_label': 's17', 'name': '887', 'srole': 'sm', 'node_id': '887', 'id': '887', 'value': '887'}}, {'data': {'uuid': '885', 'node_type': 'substance', 'inchikey': 'inchikey_placeholder', 'node_label': 's9', 'name': '885', 'srole': 'sm', 'node_id': '885', 'id': '885', 'value': '885'}}, {'data': {'uuid': '883', 'node_type': 'substance', 'inchikey': 'inchikey_placeholder', 'node_label': 's8', 'name': '883', 'srole': 'sm', 'node_id': '883', 'id': '883', 'value': '883'}}, {'data': {'uuid': '881', 'node_type': 'substance', 'inchikey': 'inchikey_placeholder', 'node_label': 's10', 'name': '881', 'srole': 'sm', 'node_id': '881', 'id': '881', 'value': '881'}}, {'data': {'uuid': '879', 'node_type': 'reaction', 'rxid': 'r9', 'node_label': 'r9', 'name': '879', 'yield_score': 1.0, 'yield_predicted': 1.0, 'rxsmiles': 'rxsmiles_placeholder', 'node_id': '879', 'id': '879', 'value': '879'}}, {'data': {'uuid': '877', 'node_type': 'reaction', 'rxid': 'r5', 'node_label': 'r5', 'name': '877', 'yield_score': 1.0, 'yield_predicted': 1.0, 'rxsmiles': 'rxsmiles_placeholder', 'node_id': '877', 'id': '877', 'value': '877'}}, {'data': {'uuid': '875', 'node_type': 'substance', 'inchikey': 'inchikey_placeholder', 'node_label': 's4', 'name': '875', 'srole': 'sm', 'node_id': '875', 'id': '875', 'value': '875'}}, {'data': {'uuid': '873', 'node_type': 'reaction', 'rxid': 'r8', 'node_label': 'r8', 'name': '873', 'yield_score': 1.0, 'yield_predicted': 1.0, 'rxsmiles': 'rxsmiles_placeholder', 'node_id': '873', 'id': '873', 'value': '873'}}, {'data': {'uuid': '871', 'node_type': 'substance', 'inchikey': 'inchikey_placeholder', 'node_label': 's3', 'name': '871', 'srole': 'im', 'node_id': '871', 'id': '871', 'value': '871'}}, {'data': {'uuid': '869', 'node_type': 'substance', 'inchikey': 'inchikey_placeholder', 'node_label': 's14', 'name': '869', 'srole': 'im', 'node_id': '869', 'id': '869', 'value': '869'}}, {'data': {'uuid': '867', 'node_type': 'reaction', 'rxid': 'r2', 'node_label': 'r2', 'name': '867', 'yield_score': 1.0, 'yield_predicted': 1.0, 'rxsmiles': 'rxsmiles_placeholder', 'node_id': '867', 'id': '867', 'value': '867'}}, {'data': {'uuid': '865', 'node_type': 'substance', 'inchikey': 'inchikey_placeholder', 'node_label': 'sTM', 'name': '865', 'srole': 'tm', 'node_id': '865', 'id': '865', 'value': '865'}}, {'data': {'uuid': '859', 'node_type': 'substance', 'inchikey': 'inchikey_placeholder', 'node_label': 's11', 'name': '859', 'srole': 'sm', 'node_id': '859', 'id': '859', 'value': '859'}}, {'data': {'uuid': '857', 'node_type': 'substance', 'inchikey': 'inchikey_placeholder', 'node_label': 's12', 'name': '857', 'srole': 'sm', 'node_id': '857', 'id': '857', 'value': '857'}}, {'data': {'uuid': '855', 'node_type': 'reaction', 'rxid': 'r6', 'node_label': 'r6', 'name': '855', 'yield_score': 1.0, 'yield_predicted': 1.0, 'rxsmiles': 'rxsmiles_placeholder', 'node_id': '855', 'id': '855', 'value': '855'}}], 'edges': [{'data': {'uuid': '989', 'edge_type': 'reactant_of', 'source': '919', 'target': '873'}}, {'data': {'uuid': '981', 'edge_type': 'reactant_of', 'source': '911', 'target': '907'}}, {'data': {'uuid': '979', 'edge_type': 'reactant_of', 'source': '909', 'target': '907'}}, {'data': {'uuid': '975', 'edge_type': 'reactant_of', 'source': '905', 'target': '901'}}, {'data': {'uuid': '973', 'edge_type': 'reactant_of', 'source': '903', 'target': '901'}}, {'data': {'uuid': '971', 'edge_type': 'product_of', 'source': '901', 'target': '895'}}, {'data': {'uuid': '969', 'edge_type': 'reactant_of', 'source': '899', 'target': '897'}}, {'data': {'uuid': '965', 'edge_type': 'reactant_of', 'source': '895', 'target': '891'}}, {'data': {'uuid': '963', 'edge_type': 'reactant_of', 'source': '893', 'target': '891'}}, {'data': {'uuid': '961', 'edge_type': 'product_of', 'source': '891', 'target': '889'}}, {'data': {'uuid': '959', 'edge_type': 'reactant_of', 'source': '889', 'target': '879'}}, {'data': {'uuid': '957', 'edge_type': 'reactant_of', 'source': '887', 'target': '879'}}, {'data': {'uuid': '955', 'edge_type': 'reactant_of', 'source': '885', 'target': '877'}}, {'data': {'uuid': '953', 'edge_type': 'reactant_of', 'source': '883', 'target': '877'}}, {'data': {'uuid': '951', 'edge_type': 'reactant_of', 'source': '881', 'target': '877'}}, {'data': {'uuid': '949', 'edge_type': 'product_of', 'source': '879', 'target': '869'}}, {'data': {'uuid': '945', 'edge_type': 'reactant_of', 'source': '875', 'target': '867'}}, {'data': {'uuid': '943', 'edge_type': 'product_of', 'source': '873', 'target': '905'}}, {'data': {'uuid': '941', 'edge_type': 'reactant_of', 'source': '871', 'target': '867'}}, {'data': {'uuid': '939', 'edge_type': 'reactant_of', 'source': '869', 'target': '897'}}, {'data': {'uuid': '937', 'edge_type': 'reactant_of', 'source': '869', 'target': '873'}}, {'data': {'uuid': '933', 'edge_type': 'product_of', 'source': '867', 'target': '865'}}, {'data': {'uuid': '925', 'edge_type': 'reactant_of', 'source': '859', 'target': '855'}}, {'data': {'uuid': '923', 'edge_type': 'reactant_of', 'source': '857', 'target': '855'}}, {'data': {'uuid': '921', 'edge_type': 'product_of', 'source': '855', 'target': '871'}}]}}\n",
      "Network created with SUID: 21228\n",
      "Network view created.\n",
      "21228\n",
      "Existing styles: ['BioPAX_SIF', 'aicp_style', 'New SynGPS API_12', 'New SynGPS API_8', 'New SynGPS API_10', 'New SynGPS API_2', 'New SynGPS API_13', 'New SynGPS API_18', 'New SynGPS API_15', 'New SynGPS API_4', 'New SynGPS API_6', 'default', 'New SynGPS API_7', 'New SynGPS API_5', 'New SynGPS API_0', 'BioPAX', 'New SynGPS API_9', 'New SynGPS API', 'New SynGPS API_11', 'New SynGPS API_1', 'New SynGPS API_14', 'New SynGPS API_3', 'New SynGPS API_16', 'New SynGPS API_17', 'size_rank']\n",
      "Style 'New SynGPS API' already exists. Applying existing style.\n",
      "Style 'New SynGPS API' applied to the network.\n",
      "Layout 'hierarchical' applied to the network.\n",
      "{'data': [], 'directed': True, 'multigraph': False, 'elements': {'nodes': [{'data': {'uuid': '919', 'node_type': 'substance', 'inchikey': 'inchikey_placeholder', 'node_label': 's15', 'name': '919', 'srole': 'sm', 'node_id': '919', 'id': '919', 'value': '919'}}, {'data': {'uuid': '911', 'node_type': 'substance', 'inchikey': 'inchikey_placeholder', 'node_label': 's2', 'name': '911', 'srole': 'sm', 'node_id': '911', 'id': '911', 'value': '911'}}, {'data': {'uuid': '909', 'node_type': 'substance', 'inchikey': 'inchikey_placeholder', 'node_label': 's1', 'name': '909', 'srole': 'im', 'node_id': '909', 'id': '909', 'value': '909'}}, {'data': {'uuid': '907', 'node_type': 'reaction', 'rxid': 'r1', 'node_label': 'r1', 'name': '907', 'yield_score': 1.0, 'yield_predicted': 1.0, 'rxsmiles': 'rxsmiles_placeholder', 'node_id': '907', 'id': '907', 'value': '907'}}, {'data': {'uuid': '905', 'node_type': 'substance', 'inchikey': 'inchikey_placeholder', 'node_label': 's21', 'name': '905', 'srole': 'im', 'node_id': '905', 'id': '905', 'value': '905'}}, {'data': {'uuid': '903', 'node_type': 'substance', 'inchikey': 'inchikey_placeholder', 'node_label': 's20', 'name': '903', 'srole': 'sm', 'node_id': '903', 'id': '903', 'value': '903'}}, {'data': {'uuid': '901', 'node_type': 'reaction', 'rxid': 'r11', 'node_label': 'r11', 'name': '901', 'yield_score': 1.0, 'yield_predicted': 1.0, 'rxsmiles': 'rxsmiles_placeholder', 'node_id': '901', 'id': '901', 'value': '901'}}, {'data': {'uuid': '899', 'node_type': 'substance', 'inchikey': 'inchikey_placeholder', 'node_label': 's5', 'name': '899', 'srole': 'sm', 'node_id': '899', 'id': '899', 'value': '899'}}, {'data': {'uuid': '897', 'node_type': 'reaction', 'rxid': 'r3', 'node_label': 'r3', 'name': '897', 'yield_score': 1.0, 'yield_predicted': 1.0, 'rxsmiles': 'rxsmiles_placeholder', 'node_id': '897', 'id': '897', 'value': '897'}}, {'data': {'uuid': '895', 'node_type': 'substance', 'inchikey': 'inchikey_placeholder', 'node_label': 's19', 'name': '895', 'srole': 'im', 'node_id': '895', 'id': '895', 'value': '895'}}, {'data': {'uuid': '893', 'node_type': 'substance', 'inchikey': 'inchikey_placeholder', 'node_label': 's18', 'name': '893', 'srole': 'sm', 'node_id': '893', 'id': '893', 'value': '893'}}, {'data': {'uuid': '891', 'node_type': 'reaction', 'rxid': 'r10', 'node_label': 'r10', 'name': '891', 'yield_score': 1.0, 'yield_predicted': 1.0, 'rxsmiles': 'rxsmiles_placeholder', 'node_id': '891', 'id': '891', 'value': '891'}}, {'data': {'uuid': '889', 'node_type': 'substance', 'inchikey': 'inchikey_placeholder', 'node_label': 's16', 'name': '889', 'srole': 'im', 'node_id': '889', 'id': '889', 'value': '889'}}, {'data': {'uuid': '887', 'node_type': 'substance', 'inchikey': 'inchikey_placeholder', 'node_label': 's17', 'name': '887', 'srole': 'sm', 'node_id': '887', 'id': '887', 'value': '887'}}, {'data': {'uuid': '885', 'node_type': 'substance', 'inchikey': 'inchikey_placeholder', 'node_label': 's9', 'name': '885', 'srole': 'sm', 'node_id': '885', 'id': '885', 'value': '885'}}, {'data': {'uuid': '883', 'node_type': 'substance', 'inchikey': 'inchikey_placeholder', 'node_label': 's8', 'name': '883', 'srole': 'sm', 'node_id': '883', 'id': '883', 'value': '883'}}, {'data': {'uuid': '881', 'node_type': 'substance', 'inchikey': 'inchikey_placeholder', 'node_label': 's10', 'name': '881', 'srole': 'sm', 'node_id': '881', 'id': '881', 'value': '881'}}, {'data': {'uuid': '879', 'node_type': 'reaction', 'rxid': 'r9', 'node_label': 'r9', 'name': '879', 'yield_score': 1.0, 'yield_predicted': 1.0, 'rxsmiles': 'rxsmiles_placeholder', 'node_id': '879', 'id': '879', 'value': '879'}}, {'data': {'uuid': '877', 'node_type': 'reaction', 'rxid': 'r5', 'node_label': 'r5', 'name': '877', 'yield_score': 1.0, 'yield_predicted': 1.0, 'rxsmiles': 'rxsmiles_placeholder', 'node_id': '877', 'id': '877', 'value': '877'}}, {'data': {'uuid': '875', 'node_type': 'substance', 'inchikey': 'inchikey_placeholder', 'node_label': 's4', 'name': '875', 'srole': 'sm', 'node_id': '875', 'id': '875', 'value': '875'}}, {'data': {'uuid': '873', 'node_type': 'reaction', 'rxid': 'r8', 'node_label': 'r8', 'name': '873', 'yield_score': 1.0, 'yield_predicted': 1.0, 'rxsmiles': 'rxsmiles_placeholder', 'node_id': '873', 'id': '873', 'value': '873'}}, {'data': {'uuid': '871', 'node_type': 'substance', 'inchikey': 'inchikey_placeholder', 'node_label': 's3', 'name': '871', 'srole': 'im', 'node_id': '871', 'id': '871', 'value': '871'}}, {'data': {'uuid': '869', 'node_type': 'substance', 'inchikey': 'inchikey_placeholder', 'node_label': 's14', 'name': '869', 'srole': 'im', 'node_id': '869', 'id': '869', 'value': '869'}}, {'data': {'uuid': '867', 'node_type': 'reaction', 'rxid': 'r2', 'node_label': 'r2', 'name': '867', 'yield_score': 1.0, 'yield_predicted': 1.0, 'rxsmiles': 'rxsmiles_placeholder', 'node_id': '867', 'id': '867', 'value': '867'}}, {'data': {'uuid': '865', 'node_type': 'substance', 'inchikey': 'inchikey_placeholder', 'node_label': 'sTM', 'name': '865', 'srole': 'tm', 'node_id': '865', 'id': '865', 'value': '865'}}, {'data': {'uuid': '859', 'node_type': 'substance', 'inchikey': 'inchikey_placeholder', 'node_label': 's11', 'name': '859', 'srole': 'sm', 'node_id': '859', 'id': '859', 'value': '859'}}, {'data': {'uuid': '857', 'node_type': 'substance', 'inchikey': 'inchikey_placeholder', 'node_label': 's12', 'name': '857', 'srole': 'sm', 'node_id': '857', 'id': '857', 'value': '857'}}, {'data': {'uuid': '855', 'node_type': 'reaction', 'rxid': 'r6', 'node_label': 'r6', 'name': '855', 'yield_score': 1.0, 'yield_predicted': 1.0, 'rxsmiles': 'rxsmiles_placeholder', 'node_id': '855', 'id': '855', 'value': '855'}}], 'edges': [{'data': {'uuid': '989', 'edge_type': 'reactant_of', 'source': '919', 'target': '873'}}, {'data': {'uuid': '981', 'edge_type': 'reactant_of', 'source': '911', 'target': '907'}}, {'data': {'uuid': '979', 'edge_type': 'reactant_of', 'source': '909', 'target': '907'}}, {'data': {'uuid': '977', 'edge_type': 'product_of', 'source': '907', 'target': '865'}}, {'data': {'uuid': '975', 'edge_type': 'reactant_of', 'source': '905', 'target': '901'}}, {'data': {'uuid': '973', 'edge_type': 'reactant_of', 'source': '903', 'target': '901'}}, {'data': {'uuid': '971', 'edge_type': 'product_of', 'source': '901', 'target': '895'}}, {'data': {'uuid': '969', 'edge_type': 'reactant_of', 'source': '899', 'target': '897'}}, {'data': {'uuid': '965', 'edge_type': 'reactant_of', 'source': '895', 'target': '891'}}, {'data': {'uuid': '963', 'edge_type': 'reactant_of', 'source': '893', 'target': '891'}}, {'data': {'uuid': '961', 'edge_type': 'product_of', 'source': '891', 'target': '889'}}, {'data': {'uuid': '959', 'edge_type': 'reactant_of', 'source': '889', 'target': '879'}}, {'data': {'uuid': '957', 'edge_type': 'reactant_of', 'source': '887', 'target': '879'}}, {'data': {'uuid': '955', 'edge_type': 'reactant_of', 'source': '885', 'target': '877'}}, {'data': {'uuid': '953', 'edge_type': 'reactant_of', 'source': '883', 'target': '877'}}, {'data': {'uuid': '951', 'edge_type': 'reactant_of', 'source': '881', 'target': '877'}}, {'data': {'uuid': '949', 'edge_type': 'product_of', 'source': '879', 'target': '869'}}, {'data': {'uuid': '945', 'edge_type': 'reactant_of', 'source': '875', 'target': '867'}}, {'data': {'uuid': '943', 'edge_type': 'product_of', 'source': '873', 'target': '905'}}, {'data': {'uuid': '941', 'edge_type': 'reactant_of', 'source': '871', 'target': '867'}}, {'data': {'uuid': '939', 'edge_type': 'reactant_of', 'source': '869', 'target': '897'}}, {'data': {'uuid': '937', 'edge_type': 'reactant_of', 'source': '869', 'target': '873'}}, {'data': {'uuid': '925', 'edge_type': 'reactant_of', 'source': '859', 'target': '855'}}, {'data': {'uuid': '923', 'edge_type': 'reactant_of', 'source': '857', 'target': '855'}}, {'data': {'uuid': '921', 'edge_type': 'product_of', 'source': '855', 'target': '871'}}]}}\n",
      "Network created with SUID: 21650\n",
      "Network view created.\n",
      "21650\n",
      "Existing styles: ['BioPAX_SIF', 'aicp_style', 'New SynGPS API_12', 'New SynGPS API_8', 'New SynGPS API_10', 'New SynGPS API_2', 'New SynGPS API_13', 'New SynGPS API_18', 'New SynGPS API_15', 'New SynGPS API_4', 'New SynGPS API_6', 'default', 'New SynGPS API_7', 'New SynGPS API_5', 'New SynGPS API_0', 'BioPAX', 'New SynGPS API_9', 'New SynGPS API', 'New SynGPS API_11', 'New SynGPS API_1', 'New SynGPS API_14', 'New SynGPS API_3', 'New SynGPS API_16', 'New SynGPS API_17', 'size_rank']\n",
      "Style 'New SynGPS API' already exists. Applying existing style.\n",
      "Style 'New SynGPS API' applied to the network.\n",
      "Layout 'hierarchical' applied to the network.\n",
      "{'data': [], 'directed': True, 'multigraph': False, 'elements': {'nodes': [{'data': {'uuid': '875', 'node_type': 'substance', 'inchikey': 'inchikey_placeholder', 'node_label': 's4', 'name': '875', 'srole': 'sm', 'node_id': '875', 'id': '875', 'value': '875'}}, {'data': {'uuid': '859', 'node_type': 'substance', 'inchikey': 'inchikey_placeholder', 'node_label': 's11', 'name': '859', 'srole': 'sm', 'node_id': '859', 'id': '859', 'value': '859'}}, {'data': {'uuid': '871', 'node_type': 'substance', 'inchikey': 'inchikey_placeholder', 'node_label': 's3', 'name': '871', 'srole': 'im', 'node_id': '871', 'id': '871', 'value': '871'}}, {'data': {'uuid': '857', 'node_type': 'substance', 'inchikey': 'inchikey_placeholder', 'node_label': 's12', 'name': '857', 'srole': 'sm', 'node_id': '857', 'id': '857', 'value': '857'}}, {'data': {'uuid': '867', 'node_type': 'reaction', 'rxid': 'r2', 'node_label': 'r2', 'name': '867', 'yield_score': 1.0, 'yield_predicted': 1.0, 'rxsmiles': 'rxsmiles_placeholder', 'node_id': '867', 'id': '867', 'value': '867'}}, {'data': {'uuid': '865', 'node_type': 'substance', 'inchikey': 'inchikey_placeholder', 'node_label': 'sTM', 'name': '865', 'srole': 'tm', 'node_id': '865', 'id': '865', 'value': '865'}}, {'data': {'uuid': '855', 'node_type': 'reaction', 'rxid': 'r6', 'node_label': 'r6', 'name': '855', 'yield_score': 1.0, 'yield_predicted': 1.0, 'rxsmiles': 'rxsmiles_placeholder', 'node_id': '855', 'id': '855', 'value': '855'}}], 'edges': [{'data': {'uuid': '945', 'edge_type': 'reactant_of', 'source': '875', 'target': '867'}}, {'data': {'uuid': '925', 'edge_type': 'reactant_of', 'source': '859', 'target': '855'}}, {'data': {'uuid': '941', 'edge_type': 'reactant_of', 'source': '871', 'target': '867'}}, {'data': {'uuid': '923', 'edge_type': 'reactant_of', 'source': '857', 'target': '855'}}, {'data': {'uuid': '933', 'edge_type': 'product_of', 'source': '867', 'target': '865'}}, {'data': {'uuid': '921', 'edge_type': 'product_of', 'source': '855', 'target': '871'}}]}}\n",
      "Network created with SUID: 22072\n",
      "Network view created.\n",
      "22072\n",
      "Existing styles: ['BioPAX_SIF', 'aicp_style', 'New SynGPS API_12', 'New SynGPS API_8', 'New SynGPS API_10', 'New SynGPS API_2', 'New SynGPS API_13', 'New SynGPS API_18', 'New SynGPS API_15', 'New SynGPS API_4', 'New SynGPS API_6', 'default', 'New SynGPS API_7', 'New SynGPS API_5', 'New SynGPS API_0', 'BioPAX', 'New SynGPS API_9', 'New SynGPS API', 'New SynGPS API_11', 'New SynGPS API_1', 'New SynGPS API_14', 'New SynGPS API_3', 'New SynGPS API_16', 'New SynGPS API_17', 'size_rank']\n",
      "Style 'New SynGPS API' already exists. Applying existing style.\n",
      "Style 'New SynGPS API' applied to the network.\n",
      "Layout 'hierarchical' applied to the network.\n"
     ]
    }
   ],
   "source": [
    "# Visualizing synthesis graph in Cytoscape\n",
    "\n",
    "\n",
    "cy_json = synth_graph2cyjs(G_sg)\n",
    "print(cy_json)\n",
    "suid = show_in_cytotscape(cy_json)\n",
    "print (suid)\n",
    "apply_style (suid)\n",
    "apply_layout (suid)\n",
    "\n",
    "# Visualizing artifact-free synthesis graph in Cytoscape\n",
    "\n",
    "cy_json = synth_graph2cyjs(G_sg_af)\n",
    "print(cy_json)\n",
    "suid = show_in_cytotscape(cy_json)\n",
    "print (suid)\n",
    "apply_style (suid)\n",
    "apply_layout (suid)\n",
    "\n",
    "# Visualizing combination graphs in Cytoscape\n",
    "for C in G_combinations:\n",
    "    \n",
    "    cy_json = route2cyjs(C)\n",
    "    print(cy_json)\n",
    "    suid = show_in_cytotscape(cy_json)\n",
    "    print (suid)\n",
    "    apply_style (suid)\n",
    "    apply_layout (suid)\n",
    "\n",
    "\n",
    "# Visualizing VSRs in Cytoscape\n",
    "for VSR in VSRs:\n",
    "    \n",
    "    cy_json = route2cyjs(VSR)\n",
    "    print(cy_json)\n",
    "    suid = show_in_cytotscape(cy_json)\n",
    "    print (suid)\n",
    "    apply_style (suid)\n",
    "    apply_layout (suid)"
   ]
  },
  {
   "cell_type": "code",
   "execution_count": 14,
   "id": "5ef2ba39-cdb2-4a5e-ab6f-d7037e1a85d3",
   "metadata": {},
   "outputs": [],
   "source": [
    "# References\n",
    "\n",
    "# Ref: https://www.geeksforgeeks.org/read-json-file-using-python/\n",
    "#\n"
   ]
  },
  {
   "cell_type": "code",
   "execution_count": null,
   "id": "f4d57744-09a6-44d7-9185-8ffe67fe08d4",
   "metadata": {},
   "outputs": [],
   "source": []
  }
 ],
 "metadata": {
  "kernelspec": {
   "display_name": "syngps",
   "language": "python",
   "name": "python3"
  },
  "language_info": {
   "codemirror_mode": {
    "name": "ipython",
    "version": 3
   },
   "file_extension": ".py",
   "mimetype": "text/x-python",
   "name": "python",
   "nbconvert_exporter": "python",
   "pygments_lexer": "ipython3",
   "version": "3.12.2"
  }
 },
 "nbformat": 4,
 "nbformat_minor": 5
}
