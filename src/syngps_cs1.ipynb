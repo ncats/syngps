{
   "cells": [
      {
         "cell_type": "code",
         "execution_count": null,
         "id": "47a4c8d0-dfa4-44af-b794-03267e5ea8f0",
         "metadata": {},
         "outputs": [
            {
               "name": "stderr",
               "output_type": "stream",
               "text": [
                  "2025-05-23 10:24:13,277 - rdkit - INFO - Enabling RDKit 2025.03.2 jupyter extensions\n"
               ]
            }
         ],
         "source": [
            "import json\n",
            "from cy_graph_parser import json2synthgraph\n",
            "from aicp import SynthGraph, AicpFunctions"
         ]
      },
      {
         "cell_type": "code",
         "execution_count": 8,
         "id": "27f2d741-f91d-4ecd-842a-6447bff24b80",
         "metadata": {},
         "outputs": [],
         "source": [
            "JSON_FILE_PATH = '../data/cs1.cyjs'"
         ]
      },
      {
         "cell_type": "code",
         "execution_count": 9,
         "id": "61709cc5-a6c3-4a46-b719-022496221deb",
         "metadata": {},
         "outputs": [],
         "source": [
            "def load_synth_graph ():\n",
            "\n",
            "    # Open and read the JSON file\n",
            "    with open(JSON_FILE_PATH, 'r') as file:\n",
            "        data = json.load(file)\n",
            "    \n",
            "    # Print the data\n",
            "    print(data)\n",
            "\n",
            "    return (data)"
         ]
      },
      {
         "cell_type": "code",
         "execution_count": 11,
         "id": "3d1a8424-2cfb-46c1-b68d-9643b67c11fa",
         "metadata": {},
         "outputs": [
            {
               "name": "stderr",
               "output_type": "stream",
               "text": [
                  "2025-05-23 10:24:33,704 - utils.graph_utils - DEBUG - Generating combination graphs using method: ebc\n",
                  "2025-05-23 10:24:33,704 - utils.graph_utils - INFO - Starting select_edges_by_edge_betweenness_centrality\n",
                  "2025-05-23 10:24:33,705 - utils.graph_utils - DEBUG - Identified 1 combination graphs.\n",
                  "2025-05-23 10:24:33,705 - utils.graph_utils - DEBUG - Combination graph 1 is empty.\n",
                  "2025-05-23 10:24:33,705 - utils.graph_utils - DEBUG - Identified 1 route candidates.\n",
                  "2025-05-23 10:24:33,706 - utils.graph_utils - DEBUG - Identified 0 final route candidates.\n"
               ]
            },
            {
               "name": "stdout",
               "output_type": "stream",
               "text": [
                  "{'format_version': '1.0', 'generated_by': 'cytoscape-3.10.1', 'target_cytoscapejs_version': '~2.1', 'data': {'shared_name': 'Toy Example VSR', 'name': 'Example SynGPS', 'SUID': 828, '__Annotations': [''], 'selected': True}, 'elements': {'nodes': [{'data': {'id': '919', 'ClosenessCentrality': 0.3333333333333333, 'srole': 'sm', 'Eccentricity': 5, 'Outdegree': 1, 'PartnerOfMultiEdgedNodePairs': 0, 'ClusteringCoefficient': 0.0, 'Stress': 0, 'shared_name': 's15', 'node_type': 'substance', 'BetweennessCentrality': 0.0, 'EdgeCount': 1, 'Indegree': 0, 'name': 's15', 'SelfLoops': 0, 'SUID': 919, 'IsSingleNode': False, 'AverageShortestPathLength': 3.0, 'selected': False, 'NeighborhoodConnectivity': 3.0}, 'position': {'x': 607.6972766427373, 'y': 675.1476841099645}, 'selected': False}, {'data': {'id': '917', 'ClosenessCentrality': 0.4, 'srole': 'sm', 'Eccentricity': 4, 'Outdegree': 1, 'PartnerOfMultiEdgedNodePairs': 0, 'ClusteringCoefficient': 0.0, 'Stress': 1218, 'shared_name': 's6', 'node_type': 'substance', 'BetweennessCentrality': 1.4556650246305418, 'EdgeCount': 2, 'Indegree': 1, 'name': 's6', 'SelfLoops': 0, 'SUID': 917, 'IsSingleNode': False, 'AverageShortestPathLength': 2.5, 'selected': False, 'NeighborhoodConnectivity': 3.5}, 'position': {'x': -619.9825399039962, 'y': 379.1120722537774}, 'selected': False}, {'data': {'id': '915', 'ClosenessCentrality': 0.3333333333333333, 'srole': 'sm', 'Eccentricity': 5, 'Outdegree': 1, 'PartnerOfMultiEdgedNodePairs': 0, 'ClusteringCoefficient': 0.0, 'Stress': 0, 'shared_name': 's7', 'node_type': 'substance', 'BetweennessCentrality': 0.0, 'EdgeCount': 1, 'Indegree': 0, 'name': 's7', 'SelfLoops': 0, 'SUID': 915, 'IsSingleNode': False, 'AverageShortestPathLength': 3.0, 'selected': False, 'NeighborhoodConnectivity': 3.0}, 'position': {'x': -491.21544141134865, 'y': 378.85011425326144}, 'selected': False}, {'data': {'id': '913', 'ClosenessCentrality': 0.4, 'srole': '', 'Eccentricity': 4, 'Outdegree': 1, 'PartnerOfMultiEdgedNodePairs': 0, 'ClusteringCoefficient': 0.0, 'Stress': 972, 'shared_name': 'r4', 'node_type': 'reaction', 'BetweennessCentrality': 1.167487684729064, 'EdgeCount': 3, 'Indegree': 2, 'name': 'r4', 'SelfLoops': 0, 'SUID': 913, 'IsSingleNode': False, 'AverageShortestPathLength': 2.5, 'selected': False, 'NeighborhoodConnectivity': 1.6666666666666667}, 'position': {'x': -551.3967527705734, 'y': 227.12304327520295}, 'selected': False}, {'data': {'id': '911', 'ClosenessCentrality': 0.3333333333333333, 'srole': 'sm', 'Eccentricity': 5, 'Outdegree': 1, 'PartnerOfMultiEdgedNodePairs': 0, 'ClusteringCoefficient': 0.0, 'Stress': 0, 'shared_name': 's2', 'node_type': 'substance', 'BetweennessCentrality': 0.0, 'EdgeCount': 1, 'Indegree': 0, 'name': 's2', 'SelfLoops': 0, 'SUID': 911, 'IsSingleNode': False, 'AverageShortestPathLength': 3.0, 'selected': False, 'NeighborhoodConnectivity': 3.0}, 'position': {'x': -258.12644619678736, 'y': 37.25215228658106}, 'selected': False}, {'data': {'id': '909', 'ClosenessCentrality': 0.4, 'srole': 'im', 'Eccentricity': 4, 'Outdegree': 1, 'PartnerOfMultiEdgedNodePairs': 0, 'ClusteringCoefficient': 0.0, 'Stress': 520, 'shared_name': 's1', 'node_type': 'substance', 'BetweennessCentrality': 0.625615763546798, 'EdgeCount': 2, 'Indegree': 1, 'name': 's1', 'SelfLoops': 0, 'SUID': 909, 'IsSingleNode': False, 'AverageShortestPathLength': 2.5, 'selected': False, 'NeighborhoodConnectivity': 3.0}, 'position': {'x': -406.60371968503915, 'y': 39.3763357836258}, 'selected': False}, {'data': {'id': '907', 'ClosenessCentrality': 0.4, 'srole': '', 'Eccentricity': 4, 'Outdegree': 1, 'PartnerOfMultiEdgedNodePairs': 0, 'ClusteringCoefficient': 0.0, 'Stress': 155, 'shared_name': 'r1', 'node_type': 'reaction', 'BetweennessCentrality': 0.19088669950738915, 'EdgeCount': 3, 'Indegree': 2, 'name': 'r1', 'SelfLoops': 0, 'SUID': 907, 'IsSingleNode': False, 'AverageShortestPathLength': 2.5, 'selected': False, 'NeighborhoodConnectivity': 2.3333333333333335}, 'position': {'x': -316.9121166232308, 'y': -119.82411276111617}, 'selected': False}, {'data': {'id': '905', 'ClosenessCentrality': 0.15294117647058825, 'srole': 'im', 'Eccentricity': 12, 'Outdegree': 1, 'PartnerOfMultiEdgedNodePairs': 0, 'ClusteringCoefficient': 0.0, 'Stress': 1178, 'shared_name': 's21', 'node_type': 'substance', 'BetweennessCentrality': 1.4507389162561577, 'EdgeCount': 2, 'Indegree': 1, 'name': 's21', 'SelfLoops': 0, 'SUID': 905, 'IsSingleNode': False, 'AverageShortestPathLength': 6.538461538461538, 'selected': False, 'NeighborhoodConnectivity': 3.0}, 'position': {'x': 487.71193121140266, 'y': 1561.8951220901936}, 'selected': False}, {'data': {'id': '903', 'ClosenessCentrality': 0.15053763440860216, 'srole': 'sm', 'Eccentricity': 12, 'Outdegree': 1, 'PartnerOfMultiEdgedNodePairs': 0, 'ClusteringCoefficient': 0.0, 'Stress': 0, 'shared_name': 's20', 'node_type': 'substance', 'BetweennessCentrality': 0.0, 'EdgeCount': 1, 'Indegree': 0, 'name': 's20', 'SelfLoops': 0, 'SUID': 903, 'IsSingleNode': False, 'AverageShortestPathLength': 6.642857142857143, 'selected': False, 'NeighborhoodConnectivity': 3.0}, 'position': {'x': 285.8149802275503, 'y': 1564.4049728549253}, 'selected': False}, {'data': {'id': '901', 'ClosenessCentrality': 0.16455696202531647, 'srole': '', 'Eccentricity': 11, 'Outdegree': 1, 'PartnerOfMultiEdgedNodePairs': 0, 'ClusteringCoefficient': 0.0, 'Stress': 1059, 'shared_name': 'r11', 'node_type': 'reaction', 'BetweennessCentrality': 1.3041871921182266, 'EdgeCount': 3, 'Indegree': 2, 'name': 'r11', 'SelfLoops': 0, 'SUID': 901, 'IsSingleNode': False, 'AverageShortestPathLength': 6.076923076923077, 'selected': False, 'NeighborhoodConnectivity': 1.6666666666666667}, 'position': {'x': 386.50233006121624, 'y': 1431.429927533382}, 'selected': False}, {'data': {'id': '899', 'ClosenessCentrality': 0.2857142857142857, 'srole': 'sm', 'Eccentricity': 6, 'Outdegree': 1, 'PartnerOfMultiEdgedNodePairs': 0, 'ClusteringCoefficient': 0.0, 'Stress': 0, 'shared_name': 's5', 'node_type': 'substance', 'BetweennessCentrality': 0.0, 'EdgeCount': 1, 'Indegree': 0, 'name': 's5', 'SelfLoops': 0, 'SUID': 899, 'IsSingleNode': False, 'AverageShortestPathLength': 3.5, 'selected': False, 'NeighborhoodConnectivity': 3.0}, 'position': {'x': 114.47996915392646, 'y': 38.19539095424219}, 'selected': False}, {'data': {'id': '897', 'ClosenessCentrality': 0.3333333333333333, 'srole': '', 'Eccentricity': 5, 'Outdegree': 1, 'PartnerOfMultiEdgedNodePairs': 0, 'ClusteringCoefficient': 0.0, 'Stress': 1130, 'shared_name': 'r3', 'node_type': 'reaction', 'BetweennessCentrality': 1.354679802955665, 'EdgeCount': 3, 'Indegree': 2, 'name': 'r3', 'SelfLoops': 0, 'SUID': 897, 'IsSingleNode': False, 'AverageShortestPathLength': 3.0, 'selected': False, 'NeighborhoodConnectivity': 3.0}, 'position': {'x': 217.02448275742577, 'y': -127.65617649025117}, 'selected': False}, {'data': {'id': '895', 'ClosenessCentrality': 0.17808219178082194, 'srole': 'im', 'Eccentricity': 10, 'Outdegree': 1, 'PartnerOfMultiEdgedNodePairs': 0, 'ClusteringCoefficient': 0.0, 'Stress': 943, 'shared_name': 's19', 'node_type': 'substance', 'BetweennessCentrality': 1.1613300492610839, 'EdgeCount': 2, 'Indegree': 1, 'name': 's19', 'SelfLoops': 0, 'SUID': 895, 'IsSingleNode': False, 'AverageShortestPathLength': 5.615384615384615, 'selected': False, 'NeighborhoodConnectivity': 3.0}, 'position': {'x': 388.11273401519355, 'y': 1271.052803408436}, 'selected': False}, {'data': {'id': '893', 'ClosenessCentrality': 0.1728395061728395, 'srole': 'sm', 'Eccentricity': 10, 'Outdegree': 1, 'PartnerOfMultiEdgedNodePairs': 0, 'ClusteringCoefficient': 0.0, 'Stress': 0, 'shared_name': 's18', 'node_type': 'substance', 'BetweennessCentrality': 0.0, 'EdgeCount': 1, 'Indegree': 0, 'name': 's18', 'SelfLoops': 0, 'SUID': 893, 'IsSingleNode': False, 'AverageShortestPathLength': 5.785714285714286, 'selected': False, 'NeighborhoodConnectivity': 3.0}, 'position': {'x': 185.6964286421915, 'y': 1271.462665618821}, 'selected': False}, {'data': {'id': '891', 'ClosenessCentrality': 0.19402985074626863, 'srole': '', 'Eccentricity': 9, 'Outdegree': 1, 'PartnerOfMultiEdgedNodePairs': 0, 'ClusteringCoefficient': 0.0, 'Stress': 853, 'shared_name': 'r10', 'node_type': 'reaction', 'BetweennessCentrality': 1.0504926108374384, 'EdgeCount': 3, 'Indegree': 2, 'name': 'r10', 'SelfLoops': 0, 'SUID': 891, 'IsSingleNode': False, 'AverageShortestPathLength': 5.153846153846154, 'selected': False, 'NeighborhoodConnectivity': 1.6666666666666667}, 'position': {'x': 288.1434300842718, 'y': 1152.7328987986084}, 'selected': False}, {'data': {'id': '889', 'ClosenessCentrality': 0.21311475409836064, 'srole': 'im', 'Eccentricity': 8, 'Outdegree': 1, 'PartnerOfMultiEdgedNodePairs': 0, 'ClusteringCoefficient': 0.0, 'Stress': 776, 'shared_name': 's16', 'node_type': 'substance', 'BetweennessCentrality': 0.9556650246305419, 'EdgeCount': 2, 'Indegree': 1, 'name': 's16', 'SelfLoops': 0, 'SUID': 889, 'IsSingleNode': False, 'AverageShortestPathLength': 4.6923076923076925, 'selected': False, 'NeighborhoodConnectivity': 3.0}, 'position': {'x': 290.0302483604046, 'y': 960.3840297687595}, 'selected': False}, {'data': {'id': '887', 'ClosenessCentrality': 0.20289855072463767, 'srole': 'sm', 'Eccentricity': 8, 'Outdegree': 1, 'PartnerOfMultiEdgedNodePairs': 0, 'ClusteringCoefficient': 0.0, 'Stress': 0, 'shared_name': 's17', 'node_type': 'substance', 'BetweennessCentrality': 0.0, 'EdgeCount': 1, 'Indegree': 0, 'name': 's17', 'SelfLoops': 0, 'SUID': 887, 'IsSingleNode': False, 'AverageShortestPathLength': 4.928571428571429, 'selected': False, 'NeighborhoodConnectivity': 3.0}, 'position': {'x': 459.9904840936565, 'y': 959.8250187226188}, 'selected': False}, {'data': {'id': '885', 'ClosenessCentrality': 0.2222222222222222, 'srole': 'sm', 'Eccentricity': 8, 'Outdegree': 1, 'PartnerOfMultiEdgedNodePairs': 0, 'ClusteringCoefficient': 0.0, 'Stress': 0, 'shared_name': 's9', 'node_type': 'substance', 'BetweennessCentrality': 0.0, 'EdgeCount': 1, 'Indegree': 0, 'name': 's9', 'SelfLoops': 0, 'SUID': 885, 'IsSingleNode': False, 'AverageShortestPathLength': 4.5, 'selected': False, 'NeighborhoodConnectivity': 4.0}, 'position': {'x': -254.17130071212694, 'y': 379.9365101372801}, 'selected': False}, {'data': {'id': '883', 'ClosenessCentrality': 0.2222222222222222, 'srole': 'sm', 'Eccentricity': 8, 'Outdegree': 1, 'PartnerOfMultiEdgedNodePairs': 0, 'ClusteringCoefficient': 0.0, 'Stress': 0, 'shared_name': 's8', 'node_type': 'substance', 'BetweennessCentrality': 0.0, 'EdgeCount': 1, 'Indegree': 0, 'name': 's8', 'SelfLoops': 0, 'SUID': 883, 'IsSingleNode': False, 'AverageShortestPathLength': 4.5, 'selected': False, 'NeighborhoodConnectivity': 4.0}, 'position': {'x': -363.7938001933965, 'y': 379.1461878884665}, 'selected': False}, {'data': {'id': '881', 'ClosenessCentrality': 0.21428571428571427, 'srole': 'sm', 'Eccentricity': 9, 'Outdegree': 2, 'PartnerOfMultiEdgedNodePairs': 0, 'ClusteringCoefficient': 0.0, 'Stress': 0, 'shared_name': 's10', 'node_type': 'substance', 'BetweennessCentrality': 0.0, 'EdgeCount': 2, 'Indegree': 0, 'name': 's10', 'SelfLoops': 0, 'SUID': 881, 'IsSingleNode': False, 'AverageShortestPathLength': 4.666666666666667, 'selected': False, 'NeighborhoodConnectivity': 3.5}, 'position': {'x': -129.61623647768485, 'y': 380.2868996937755}, 'selected': False}, {'data': {'id': '879', 'ClosenessCentrality': 0.23636363636363636, 'srole': '', 'Eccentricity': 7, 'Outdegree': 1, 'PartnerOfMultiEdgedNodePairs': 0, 'ClusteringCoefficient': 0.0, 'Stress': 1037, 'shared_name': 'r9', 'node_type': 'reaction', 'BetweennessCentrality': 1.2770935960591132, 'EdgeCount': 3, 'Indegree': 2, 'name': 'r9', 'SelfLoops': 0, 'SUID': 879, 'IsSingleNode': False, 'AverageShortestPathLength': 4.230769230769231, 'selected': False, 'NeighborhoodConnectivity': 2.3333333333333335}, 'position': {'x': 371.4279316256525, 'y': 829.4861252224885}, 'selected': False}, {'data': {'id': '877', 'ClosenessCentrality': 0.25, 'srole': '', 'Eccentricity': 7, 'Outdegree': 1, 'PartnerOfMultiEdgedNodePairs': 0, 'ClusteringCoefficient': 0.0, 'Stress': 231, 'shared_name': 'r5', 'node_type': 'reaction', 'BetweennessCentrality': 0.24753694581280788, 'EdgeCount': 4, 'Indegree': 3, 'name': 'r5', 'SelfLoops': 0, 'SUID': 877, 'IsSingleNode': False, 'AverageShortestPathLength': 4.0, 'selected': False, 'NeighborhoodConnectivity': 1.5}, 'position': {'x': -252.5271124610693, 'y': 226.03603984679475}, 'selected': False}, {'data': {'id': '875', 'ClosenessCentrality': 0.2857142857142857, 'srole': 'sm', 'Eccentricity': 6, 'Outdegree': 1, 'PartnerOfMultiEdgedNodePairs': 0, 'ClusteringCoefficient': 0.0, 'Stress': 0, 'shared_name': 's4', 'node_type': 'substance', 'BetweennessCentrality': 0.0, 'EdgeCount': 1, 'Indegree': 0, 'name': 's4', 'SelfLoops': 0, 'SUID': 875, 'IsSingleNode': False, 'AverageShortestPathLength': 3.5, 'selected': False, 'NeighborhoodConnectivity': 3.0}, 'position': {'x': 19.662477593789188, 'y': 36.85302110364978}, 'selected': False}, {'data': {'id': '873', 'ClosenessCentrality': 0.14285714285714285, 'srole': '', 'Eccentricity': 13, 'Outdegree': 1, 'PartnerOfMultiEdgedNodePairs': 0, 'ClusteringCoefficient': 0.0, 'Stress': 1139, 'shared_name': 'r8', 'node_type': 'reaction', 'BetweennessCentrality': 1.4027093596059113, 'EdgeCount': 3, 'Indegree': 2, 'name': 'r8', 'SelfLoops': 0, 'SUID': 873, 'IsSingleNode': False, 'AverageShortestPathLength': 7.0, 'selected': False, 'NeighborhoodConnectivity': 2.3333333333333335}, 'position': {'x': 485.0037565112975, 'y': 515.1469348146477}, 'selected': False}, {'data': {'id': '871', 'ClosenessCentrality': 0.2857142857142857, 'srole': 'im', 'Eccentricity': 6, 'Outdegree': 1, 'PartnerOfMultiEdgedNodePairs': 0, 'ClusteringCoefficient': 0.0, 'Stress': 372, 'shared_name': 's3', 'node_type': 'substance', 'BetweennessCentrality': 0.4211822660098522, 'EdgeCount': 2, 'Indegree': 1, 'name': 's3', 'SelfLoops': 0, 'SUID': 871, 'IsSingleNode': False, 'AverageShortestPathLength': 3.5, 'selected': False, 'NeighborhoodConnectivity': 3.5}, 'position': {'x': -117.15892820090679, 'y': 38.0825686324378}, 'selected': False}, {'data': {'id': '869', 'ClosenessCentrality': 0.13333333333333333, 'srole': 'im', 'Eccentricity': 14, 'Outdegree': 1, 'PartnerOfMultiEdgedNodePairs': 0, 'ClusteringCoefficient': 0.0, 'Stress': 0, 'shared_name': 's14', 'node_type': 'substance', 'BetweennessCentrality': 0.0, 'EdgeCount': 1, 'Indegree': 0, 'name': 's14', 'SelfLoops': 0, 'SUID': 869, 'IsSingleNode': False, 'AverageShortestPathLength': 7.5, 'selected': False, 'NeighborhoodConnectivity': 3.0}, 'position': {'x': 369.1385962914486, 'y': 676.5137059524584}, 'selected': False}, {'data': {'id': '867', 'ClosenessCentrality': 0.3333333333333333, 'srole': '', 'Eccentricity': 5, 'Outdegree': 1, 'PartnerOfMultiEdgedNodePairs': 0, 'ClusteringCoefficient': 0.0, 'Stress': 495, 'shared_name': 'r2', 'node_type': 'reaction', 'BetweennessCentrality': 0.5726600985221675, 'EdgeCount': 3, 'Indegree': 2, 'name': 'r2', 'SelfLoops': 0, 'SUID': 867, 'IsSingleNode': False, 'AverageShortestPathLength': 3.0, 'selected': False, 'NeighborhoodConnectivity': 2.3333333333333335}, 'position': {'x': -45.56919142844711, 'y': -120.08607076163223}, 'selected': False}, {'data': {'id': '865', 'ClosenessCentrality': 0.4, 'srole': 'tm', 'Eccentricity': 4, 'Outdegree': 1, 'PartnerOfMultiEdgedNodePairs': 0, 'ClusteringCoefficient': 0.0, 'Stress': 1657, 'shared_name': 'sTM', 'node_type': 'substance', 'BetweennessCentrality': 1.9815270935960592, 'EdgeCount': 4, 'Indegree': 3, 'name': 'sTM', 'SelfLoops': 0, 'SUID': 865, 'IsSingleNode': False, 'AverageShortestPathLength': 2.5, 'selected': False, 'NeighborhoodConnectivity': 2.75}, 'position': {'x': -52.467490780965946, 'y': -476.968823214872}, 'selected': False}, {'data': {'id': '863', 'ClosenessCentrality': 0.14285714285714285, 'srole': '', 'Eccentricity': 13, 'Outdegree': 1, 'PartnerOfMultiEdgedNodePairs': 0, 'ClusteringCoefficient': 0.0, 'Stress': 1139, 'shared_name': 'r7', 'node_type': 'reaction', 'BetweennessCentrality': 1.4027093596059113, 'EdgeCount': 3, 'Indegree': 2, 'name': 'r7', 'SelfLoops': 0, 'SUID': 863, 'IsSingleNode': False, 'AverageShortestPathLength': 7.0, 'selected': False, 'NeighborhoodConnectivity': 2.3333333333333335}, 'position': {'x': 196.12720084909247, 'y': 517.250241304185}, 'selected': False}, {'data': {'id': '861', 'ClosenessCentrality': 0.21428571428571427, 'srole': 'sm', 'Eccentricity': 9, 'Outdegree': 2, 'PartnerOfMultiEdgedNodePairs': 0, 'ClusteringCoefficient': 0.0, 'Stress': 0, 'shared_name': 's13', 'node_type': 'substance', 'BetweennessCentrality': 0.0, 'EdgeCount': 2, 'Indegree': 0, 'name': 's13', 'SelfLoops': 0, 'SUID': 861, 'IsSingleNode': False, 'AverageShortestPathLength': 4.666666666666667, 'selected': False, 'NeighborhoodConnectivity': 3.5}, 'position': {'x': 36.263364091328576, 'y': 668.9531823100269}, 'selected': False}, {'data': {'id': '859', 'ClosenessCentrality': 0.2222222222222222, 'srole': 'sm', 'Eccentricity': 8, 'Outdegree': 1, 'PartnerOfMultiEdgedNodePairs': 0, 'ClusteringCoefficient': 0.0, 'Stress': 0, 'shared_name': 's11', 'node_type': 'substance', 'BetweennessCentrality': 0.0, 'EdgeCount': 1, 'Indegree': 0, 'name': 's11', 'SelfLoops': 0, 'SUID': 859, 'IsSingleNode': False, 'AverageShortestPathLength': 4.5, 'selected': False, 'NeighborhoodConnectivity': 4.0}, 'position': {'x': 9.306228031817321, 'y': 378.68884341251504}, 'selected': False}, {'data': {'id': '857', 'ClosenessCentrality': 0.21428571428571427, 'srole': 'sm', 'Eccentricity': 9, 'Outdegree': 2, 'PartnerOfMultiEdgedNodePairs': 0, 'ClusteringCoefficient': 0.0, 'Stress': 0, 'shared_name': 's12', 'node_type': 'substance', 'BetweennessCentrality': 0.0, 'EdgeCount': 2, 'Indegree': 0, 'name': 's12', 'SelfLoops': 0, 'SUID': 857, 'IsSingleNode': False, 'AverageShortestPathLength': 4.666666666666667, 'selected': False, 'NeighborhoodConnectivity': 3.5}, 'position': {'x': 197.89241161078365, 'y': 381.6004777427914}, 'selected': False}, {'data': {'id': '855', 'ClosenessCentrality': 0.25, 'srole': '', 'Eccentricity': 7, 'Outdegree': 1, 'PartnerOfMultiEdgedNodePairs': 0, 'ClusteringCoefficient': 0.0, 'Stress': 231, 'shared_name': 'r6', 'node_type': 'reaction', 'BetweennessCentrality': 0.24753694581280788, 'EdgeCount': 4, 'Indegree': 3, 'name': 'r6', 'SelfLoops': 0, 'SUID': 855, 'IsSingleNode': False, 'AverageShortestPathLength': 4.0, 'selected': False, 'NeighborhoodConnectivity': 1.5}, 'position': {'x': 98.03273859142777, 'y': 229.91086266959155}, 'selected': False}], 'edges': [{'data': {'id': '989', 'source': '919', 'target': '873', 'shared_name': 's20 (interacts with) r4', 'shared_interaction': 'interacts with', 'name': 's20 (interacts with) r4', 'interaction': 'interacts with', 'SUID': 989, 'edge_type': 'reactant_of', 'selected': False}, 'selected': False}, {'data': {'id': '987', 'source': '917', 'target': '913', 'EdgeBetweenness': 1270.0, 'shared_name': 'Node 1 (interacts with) r3', 'shared_interaction': 'interacts with', 'name': 'Node 1 (interacts with) r3', 'interaction': 'interacts with', 'SUID': 987, 'edge_type': 'reactant_of', 'selected': False}, 'selected': False}, {'data': {'id': '985', 'source': '915', 'target': '913', 'EdgeBetweenness': 140.0, 'shared_name': 'Node 1 (interacts with) r3', 'shared_interaction': 'interacts with', 'name': 'Node 1 (interacts with) r3', 'interaction': 'interacts with', 'SUID': 985, 'edge_type': 'reactant_of', 'selected': False}, 'selected': False}, {'data': {'id': '983', 'source': '913', 'target': '909', 'EdgeBetweenness': 960.0, 'shared_name': 'r3 (interacts with) Node 1', 'shared_interaction': 'interacts with', 'name': 'r3 (interacts with) Node 1', 'interaction': 'interacts with', 'SUID': 983, 'edge_type': 'product_of', 'selected': False}, 'selected': False}, {'data': {'id': '981', 'source': '911', 'target': '907', 'EdgeBetweenness': 40.0, 'shared_name': 'Node 1 (interacts with) r1', 'shared_interaction': 'interacts with', 'name': 'Node 1 (interacts with) r1', 'interaction': 'interacts with', 'SUID': 981, 'edge_type': 'reactant_of', 'selected': False}, 'selected': False}, {'data': {'id': '979', 'source': '909', 'target': '907', 'EdgeBetweenness': 560.0, 'shared_name': 'Node 1 (interacts with) r1', 'shared_interaction': 'interacts with', 'name': 'Node 1 (interacts with) r1', 'interaction': 'interacts with', 'SUID': 979, 'edge_type': 'reactant_of', 'selected': False}, 'selected': False}, {'data': {'id': '977', 'source': '907', 'target': '865', 'EdgeBetweenness': 235.0, 'shared_name': 'r1 (interacts with) sTM', 'shared_interaction': 'interacts with', 'name': 'r1 (interacts with) sTM', 'interaction': 'interacts with', 'SUID': 977, 'edge_type': 'product_of', 'selected': False}, 'selected': False}, {'data': {'id': '975', 'source': '905', 'target': '901', 'EdgeBetweenness': 1191.0, 'shared_name': 'Node 1 (interacts with) r2', 'shared_interaction': 'interacts with', 'name': 'Node 1 (interacts with) r2', 'interaction': 'interacts with', 'SUID': 975, 'edge_type': 'reactant_of', 'selected': False}, 'selected': False}, {'data': {'id': '973', 'source': '903', 'target': '901', 'EdgeBetweenness': 70.0, 'shared_name': 'Node 1 (interacts with) r2', 'shared_interaction': 'interacts with', 'name': 'Node 1 (interacts with) r2', 'interaction': 'interacts with', 'SUID': 973, 'edge_type': 'reactant_of', 'selected': False}, 'selected': False}, {'data': {'id': '971', 'source': '901', 'target': '895', 'EdgeBetweenness': 1150.0, 'shared_name': 'r2 (interacts with) Node 1', 'shared_interaction': 'interacts with', 'name': 'r2 (interacts with) Node 1', 'interaction': 'interacts with', 'SUID': 971, 'edge_type': 'product_of', 'selected': False}, 'selected': False}, {'data': {'id': '969', 'source': '899', 'target': '897', 'EdgeBetweenness': 102.0, 'shared_name': 'Node 1 (interacts with) r1', 'shared_interaction': 'interacts with', 'name': 'Node 1 (interacts with) r1', 'interaction': 'interacts with', 'SUID': 969, 'edge_type': 'reactant_of', 'selected': False}, 'selected': False}, {'data': {'id': '967', 'source': '897', 'target': '865', 'EdgeBetweenness': 1220.0, 'shared_name': 'r1 (interacts with) sTM', 'shared_interaction': 'interacts with', 'name': 'r1 (interacts with) sTM', 'interaction': 'interacts with', 'SUID': 967, 'edge_type': 'product_of', 'selected': False}, 'selected': False}, {'data': {'id': '965', 'source': '895', 'target': '891', 'EdgeBetweenness': 969.0, 'shared_name': 'Node 1 (interacts with) r2', 'shared_interaction': 'interacts with', 'name': 'Node 1 (interacts with) r2', 'interaction': 'interacts with', 'SUID': 965, 'edge_type': 'reactant_of', 'selected': False}, 'selected': False}, {'data': {'id': '963', 'source': '893', 'target': '891', 'EdgeBetweenness': 84.0, 'shared_name': 'Node 1 (interacts with) r2', 'shared_interaction': 'interacts with', 'name': 'Node 1 (interacts with) r2', 'interaction': 'interacts with', 'SUID': 963, 'edge_type': 'reactant_of', 'selected': False}, 'selected': False}, {'data': {'id': '961', 'source': '891', 'target': '889', 'EdgeBetweenness': 970.0, 'shared_name': 'r2 (interacts with) Node 1', 'shared_interaction': 'interacts with', 'name': 'r2 (interacts with) Node 1', 'interaction': 'interacts with', 'SUID': 961, 'edge_type': 'product_of', 'selected': False}, 'selected': False}, {'data': {'id': '959', 'source': '889', 'target': '879', 'EdgeBetweenness': 971.0, 'shared_name': 'Node 1 (interacts with) r2', 'shared_interaction': 'interacts with', 'name': 'Node 1 (interacts with) r2', 'interaction': 'interacts with', 'SUID': 959, 'edge_type': 'reactant_of', 'selected': False}, 'selected': False}, {'data': {'id': '957', 'source': '887', 'target': '879', 'EdgeBetweenness': 252.0, 'shared_name': 'Node 1 (interacts with) r2', 'shared_interaction': 'interacts with', 'name': 'Node 1 (interacts with) r2', 'interaction': 'interacts with', 'SUID': 957, 'edge_type': 'reactant_of', 'selected': False}, 'selected': False}, {'data': {'id': '955', 'source': '885', 'target': '877', 'EdgeBetweenness': 80.0, 'shared_name': 'Node 1 (interacts with) r3', 'shared_interaction': 'interacts with', 'name': 'Node 1 (interacts with) r3', 'interaction': 'interacts with', 'SUID': 955, 'edge_type': 'reactant_of', 'selected': False}, 'selected': False}, {'data': {'id': '953', 'source': '883', 'target': '877', 'EdgeBetweenness': 88.0, 'shared_name': 'Node 1 (interacts with) r3', 'shared_interaction': 'interacts with', 'name': 'Node 1 (interacts with) r3', 'interaction': 'interacts with', 'SUID': 953, 'edge_type': 'reactant_of', 'selected': False}, 'selected': False}, {'data': {'id': '951', 'source': '881', 'target': '877', 'EdgeBetweenness': 66.0, 'shared_name': 'Node 1 (interacts with) r3', 'shared_interaction': 'interacts with', 'name': 'Node 1 (interacts with) r3', 'interaction': 'interacts with', 'SUID': 951, 'edge_type': 'reactant_of', 'selected': False}, 'selected': False}, {'data': {'id': '949', 'source': '879', 'target': '869', 'shared_name': 'r8 (interacts with) s7', 'shared_interaction': 'interacts with', 'name': 'r8 (interacts with) s7', 'interaction': 'interacts with', 'SUID': 949, 'edge_type': 'product_of', 'selected': False}, 'selected': False}, {'data': {'id': '947', 'source': '877', 'target': '871', 'EdgeBetweenness': 404.0, 'shared_name': 'r2 (interacts with) Node 1', 'shared_interaction': 'interacts with', 'name': 'r2 (interacts with) Node 1', 'interaction': 'interacts with', 'SUID': 947, 'edge_type': 'product_of', 'selected': False}, 'selected': False}, {'data': {'id': '945', 'source': '875', 'target': '867', 'EdgeBetweenness': 96.0, 'shared_name': 'Node 1 (interacts with) r1', 'shared_interaction': 'interacts with', 'name': 'Node 1 (interacts with) r1', 'interaction': 'interacts with', 'SUID': 945, 'edge_type': 'reactant_of', 'selected': False}, 'selected': False}, {'data': {'id': '943', 'source': '873', 'target': '905', 'shared_name': 'r4 (interacts with) s19', 'shared_interaction': 'interacts with', 'name': 'r4 (interacts with) s19', 'interaction': 'interacts with', 'SUID': 943, 'edge_type': 'product_of', 'selected': False}, 'selected': False}, {'data': {'id': '941', 'source': '871', 'target': '867', 'EdgeBetweenness': 468.0, 'shared_name': 'Node 1 (interacts with) r1', 'shared_interaction': 'interacts with', 'name': 'Node 1 (interacts with) r1', 'interaction': 'interacts with', 'SUID': 941, 'edge_type': 'reactant_of', 'selected': False}, 'selected': False}, {'data': {'id': '939', 'source': '869', 'target': '897', 'shared_name': 's7 (interacts with) r3', 'shared_interaction': 'interacts with', 'name': 's7 (interacts with) r3', 'interaction': 'interacts with', 'SUID': 939, 'edge_type': 'reactant_of', 'selected': False}, 'selected': False}, {'data': {'id': '937', 'source': '869', 'target': '873', 'EdgeBetweenness': 378.0, 'shared_name': 'Node 1 (interacts with) r2', 'shared_interaction': 'interacts with', 'name': 'Node 1 (interacts with) r2', 'interaction': 'interacts with', 'SUID': 937, 'edge_type': 'reactant_of', 'selected': False}, 'selected': False}, {'data': {'id': '935', 'source': '869', 'target': '863', 'shared_name': 's7 (interacts with) r4', 'shared_interaction': 'interacts with', 'name': 's7 (interacts with) r4', 'interaction': 'interacts with', 'SUID': 935, 'edge_type': 'reactant_of', 'selected': False}, 'selected': False}, {'data': {'id': '933', 'source': '867', 'target': '865', 'EdgeBetweenness': 615.0, 'shared_name': 'r1 (interacts with) sTM', 'shared_interaction': 'interacts with', 'name': 'r1 (interacts with) sTM', 'interaction': 'interacts with', 'SUID': 933, 'edge_type': 'product_of', 'selected': False}, 'selected': False}, {'data': {'id': '931', 'source': '865', 'target': '913', 'shared_name': 'sTM (interacts with) r3', 'shared_interaction': 'interacts with', 'name': 'sTM (interacts with) r3', 'interaction': 'interacts with', 'SUID': 931, 'edge_type': 'reactant_of', 'selected': False}, 'selected': False}, {'data': {'id': '929', 'source': '863', 'target': '857', 'shared_name': 'r4 (interacts with) s10', 'shared_interaction': 'interacts with', 'name': 'r4 (interacts with) s10', 'interaction': 'interacts with', 'SUID': 929, 'edge_type': 'product_of', 'selected': False}, 'selected': False}, {'data': {'id': '927', 'source': '861', 'target': '863', 'shared_name': 's12 (interacts with) r4', 'shared_interaction': 'interacts with', 'name': 's12 (interacts with) r4', 'interaction': 'interacts with', 'SUID': 927, 'edge_type': 'reactant_of', 'selected': False}, 'selected': False}, {'data': {'id': '925', 'source': '859', 'target': '855', 'EdgeBetweenness': 80.0, 'shared_name': 'Node 1 (interacts with) r3', 'shared_interaction': 'interacts with', 'name': 'Node 1 (interacts with) r3', 'interaction': 'interacts with', 'SUID': 925, 'edge_type': 'reactant_of', 'selected': False}, 'selected': False}, {'data': {'id': '923', 'source': '857', 'target': '855', 'EdgeBetweenness': 66.0, 'shared_name': 'Node 1 (interacts with) r3', 'shared_interaction': 'interacts with', 'name': 'Node 1 (interacts with) r3', 'interaction': 'interacts with', 'SUID': 923, 'edge_type': 'reactant_of', 'selected': False}, 'selected': False}, {'data': {'id': '921', 'source': '855', 'target': '871', 'EdgeBetweenness': 404.0, 'shared_name': 'r2 (interacts with) Node 1', 'shared_interaction': 'interacts with', 'name': 'r2 (interacts with) Node 1', 'interaction': 'interacts with', 'SUID': 921, 'edge_type': 'product_of', 'selected': False}, 'selected': False}]}}\n",
                  "Node 919 has no edges\n",
                  "Node 917 has no edges\n",
                  "Node 915 has no edges\n",
                  "Node 913 has no edges\n",
                  "Node 911 has no edges\n",
                  "Node 909 has no edges\n",
                  "Node 907 has no edges\n",
                  "Node 905 has no edges\n",
                  "Node 903 has no edges\n",
                  "Node 901 has no edges\n",
                  "Node 899 has no edges\n",
                  "Node 897 has no edges\n",
                  "Node 895 has no edges\n",
                  "Node 893 has no edges\n",
                  "Node 891 has no edges\n",
                  "Node 889 has no edges\n",
                  "Node 887 has no edges\n",
                  "Node 885 has no edges\n",
                  "Node 883 has no edges\n",
                  "Node 881 has no edges\n",
                  "Node 879 has no edges\n",
                  "Node 877 has no edges\n",
                  "Node 875 has no edges\n",
                  "Node 873 has no edges\n",
                  "Node 871 has no edges\n",
                  "Node 869 has no edges\n",
                  "Node 867 has no edges\n",
                  "Node 865 has no edges\n",
                  "Node 863 has no edges\n",
                  "Node 861 has no edges\n",
                  "Node 859 has no edges\n",
                  "Node 857 has no edges\n",
                  "Node 855 has no edges\n",
                  "[]\n",
                  "[SynthRoute(route_candidate=<networkx.classes.digraph.DiGraph object at 0x1624a45f0>, aggregated_yield=None, predicted=False, source=None, route_index=1, route_status='Empty Combination Graph', method='AICP', route_node_labels=[])]\n",
                  "[SynthRoute(route_candidate=<networkx.classes.digraph.DiGraph object at 0x11ba2e3f0>, aggregated_yield=None, predicted=False, source=None, route_index=1, route_status=None, method=None, route_node_labels=[])]\n"
               ]
            }
         ],
         "source": [
            "\n",
            "G_synth_graph = json2synthgraph(load_synth_graph())\n",
            "\n",
            "\n",
            "# check for nodes without any edges\n",
            "nodes_to_delete = []\n",
            "for node in G_synth_graph.nodes():\n",
            "    if G_synth_graph.degree(node) == 0:\n",
            "        print(f\"Node {node} has no edges\")\n",
            "        nodes_to_delete.append(node)\n",
            "\n",
            "G_synth_graph.remove_nodes_from(nodes_to_delete)\n",
            "new_nodes_to_delete = []\n",
            "# if any node doesnt have node_type property raise an error\n",
            "for node in G_synth_graph.nodes():\n",
            "    if \"node_type\" not in G_synth_graph.nodes[node]:\n",
            "        #raise ValueError(f\"Node {node} does not have node_type property\")\n",
            "        new_nodes_to_delete.append(node)\n",
            "\n",
            "G_synth_graph.remove_nodes_from(new_nodes_to_delete)\n",
            "\n",
            "\n",
            "# Instantiate SynthGraph\n",
            "synth_graph = SynthGraph(synthesis_graph=G_synth_graph, target_molecule_node_id=\"865\")\n",
            "\n",
            "# Call _identify_synth_graph_routes\n",
            "aicp_functions = AicpFunctions(data_adapter=None)\n",
            "routes, route_candidates, combination_graphs = aicp_functions._identify_synth_graph_routes(\n",
            "    synth_graph, include_route_candidates=True, include_combination_graphs=True\n",
            ")\n",
            "\n",
            "print(routes)\n",
            "print(route_candidates)\n",
            "print(combination_graphs)"
         ]
      },
      {
         "cell_type": "code",
         "execution_count": 5,
         "id": "5ef2ba39-cdb2-4a5e-ab6f-d7037e1a85d3",
         "metadata": {},
         "outputs": [],
         "source": [
            "# References\n",
            "\n",
            "# Ref: https://www.geeksforgeeks.org/read-json-file-using-python/\n",
            "#\n"
         ]
      }
   ],
   "metadata": {
      "kernelspec": {
         "display_name": "syngps",
         "language": "python",
         "name": "python3"
      },
      "language_info": {
         "codemirror_mode": {
            "name": "ipython",
            "version": 3
         },
         "file_extension": ".py",
         "mimetype": "text/x-python",
         "name": "python",
         "nbconvert_exporter": "python",
         "pygments_lexer": "ipython3",
         "version": "3.12.2"
      }
   },
   "nbformat": 4,
   "nbformat_minor": 5
}
