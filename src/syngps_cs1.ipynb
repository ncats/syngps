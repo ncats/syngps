{
 "cells": [
  {
   "cell_type": "code",
   "execution_count": 11,
   "id": "47a4c8d0-dfa4-44af-b794-03267e5ea8f0",
   "metadata": {},
   "outputs": [],
   "source": [
    "import json\n",
    "\n",
    "from cy_graph_parser import json2synthgraph\n",
    "\n",
    "import utils.graph_utils as gu\n",
    "from utils.graph_utils import remove_incompatible_reactions, generate_combination_graphs, find_viable_route\n",
    "\n",
    "\n",
    "import requests\n",
    "import sys\n",
    "\n",
    "from graph_parser import json2routes\n",
    "from aicp2cytoscape import synth_graph2cyjs, route2cyjs, show_in_cytotscape, apply_style, apply_layout"
   ]
  },
  {
   "cell_type": "code",
   "execution_count": 12,
   "id": "27f2d741-f91d-4ecd-842a-6447bff24b80",
   "metadata": {},
   "outputs": [],
   "source": [
    "JSON_FILE_PATH = '../data/cs1.cyjs'\n",
    "\n",
    "TMID = '865'"
   ]
  },
  {
   "cell_type": "code",
   "execution_count": 13,
   "id": "61709cc5-a6c3-4a46-b719-022496221deb",
   "metadata": {},
   "outputs": [],
   "source": [
    "def load_synth_graph ():\n",
    "\n",
    "    # Open and read the JSON file\n",
    "    with open(JSON_FILE_PATH, 'r') as file:\n",
    "        data = json.load(file)\n",
    "    \n",
    "    # Print the data\n",
    "    #print(data)\n",
    "\n",
    "    return (data)\n",
    "\n",
    "\n",
    "\n"
   ]
  },
  {
   "cell_type": "code",
   "execution_count": null,
   "id": "3d1a8424-2cfb-46c1-b68d-9643b67c11fa",
   "metadata": {},
   "outputs": [],
   "source": [
    "\n",
    "G_sg = json2synthgraph(load_synth_graph ())\n",
    "\n",
    "   \n",
    "print(G_sg)"
   ]
  },
  {
   "cell_type": "code",
   "execution_count": null,
   "id": "616d2190-2b77-475f-b4ab-db22168fa395",
   "metadata": {},
   "outputs": [],
   "source": [
    "# Generatig the artifact-free synthesis graph\n",
    "G_sg_af = gu.remove_incompatible_reactions (G_sg.copy(), target_molecule_node_id = TMID)\n",
    "\n",
    "# Generating combination graphs\n",
    "# and allowing to find all combination graphs based on the edge-betweenness centrality (EBC) method\n",
    "G_combinations = []\n",
    "G_combinations = gu.generate_combination_graphs (G_sg_af.copy(), method = \"ebc\", max_nr = 0)\n",
    "\n",
    "\n",
    "\n",
    "# Identifying Viable Synthesis Routes (VSRs)\n",
    "VSRs = []\n",
    "for C in G_combinations:\n",
    "    R = gu.find_viable_route (C, target_module_node_id = TMID)\n",
    "    print (R)\n",
    "    \n",
    "    if R[1] == 'Viable Route Candidate':\n",
    "        VSRs.append(R[0])\n",
    "\n",
    "for VSR in VSRs:\n",
    "    print (VSR)\n",
    "\n",
    "\n",
    "# Results check out with that of manually derived in Case Study 1\n",
    "# GZK\n",
    "\n",
    "\n",
    "\n"
   ]
  },
  {
   "cell_type": "code",
   "execution_count": null,
   "id": "045f0d54-4903-4b41-a931-04d2f63b6589",
   "metadata": {},
   "outputs": [],
   "source": [
    "# Visualizing synthesis graph in Cytoscape\n",
    "\n",
    "\n",
    "cy_json = synth_graph2cyjs(G_sg)\n",
    "print(cy_json)\n",
    "suid = show_in_cytotscape(cy_json)\n",
    "print (suid)\n",
    "apply_style (suid)\n",
    "apply_layout (suid)\n",
    "\n",
    "# Visualizing artifact-free synthesis graph in Cytoscape\n",
    "\n",
    "cy_json = synth_graph2cyjs(G_sg_af)\n",
    "print(cy_json)\n",
    "suid = show_in_cytotscape(cy_json)\n",
    "print (suid)\n",
    "apply_style (suid)\n",
    "apply_layout (suid)\n",
    "\n",
    "# Visualizing combination graphs in Cytoscape\n",
    "for C in G_combinations:\n",
    "    \n",
    "    cy_json = route2cyjs(C)\n",
    "    print(cy_json)\n",
    "    suid = show_in_cytotscape(cy_json)\n",
    "    print (suid)\n",
    "    apply_style (suid)\n",
    "    apply_layout (suid)\n",
    "\n",
    "\n",
    "# Visualizing VSRs in Cytoscape\n",
    "for VSR in VSRs:\n",
    "    \n",
    "    cy_json = route2cyjs(VSR)\n",
    "    print(cy_json)\n",
    "    suid = show_in_cytotscape(cy_json)\n",
    "    print (suid)\n",
    "    apply_style (suid)\n",
    "    apply_layout (suid)"
   ]
  },
  {
   "cell_type": "code",
   "execution_count": 17,
   "id": "5ef2ba39-cdb2-4a5e-ab6f-d7037e1a85d3",
   "metadata": {},
   "outputs": [],
   "source": [
    "# References\n",
    "\n",
    "# Ref: https://www.geeksforgeeks.org/read-json-file-using-python/\n",
    "#\n"
   ]
  },
  {
   "cell_type": "code",
   "execution_count": null,
   "id": "f4d57744-09a6-44d7-9185-8ffe67fe08d4",
   "metadata": {},
   "outputs": [],
   "source": []
  }
 ],
 "metadata": {
  "kernelspec": {
   "display_name": "syngps",
   "language": "python",
   "name": "python3"
  },
  "language_info": {
   "codemirror_mode": {
    "name": "ipython",
    "version": 3
   },
   "file_extension": ".py",
   "mimetype": "text/x-python",
   "name": "python",
   "nbconvert_exporter": "python",
   "pygments_lexer": "ipython3",
   "version": "3.12.2"
  }
 },
 "nbformat": 4,
 "nbformat_minor": 5
}
